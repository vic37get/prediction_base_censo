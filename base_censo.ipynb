{
  "cells": [
    {
      "cell_type": "markdown",
      "metadata": {
        "colab_type": "text",
        "id": "view-in-github"
      },
      "source": [
        "<a href=\"https://colab.research.google.com/github/vic37get/predition_base_censo/blob/main/base_censo.ipynb\" target=\"_parent\"><img src=\"https://colab.research.google.com/assets/colab-badge.svg\" alt=\"Open In Colab\"/></a>"
      ]
    },
    {
      "cell_type": "code",
      "execution_count": null,
      "metadata": {
        "id": "jvbKJqp8-gu6"
      },
      "outputs": [],
      "source": [
        "import pandas as pd\n",
        "from sklearn.ensemble import RandomForestClassifier\n",
        "from sklearn.model_selection import cross_val_score\n",
        "from sklearn.tree import DecisionTreeClassifier\n",
        "import numpy as np\n",
        "import seaborn as sns\n",
        "import matplotlib.pyplot as plt\n",
        "import plotly.express as px\n",
        "from sklearn.preprocessing import LabelEncoder\n",
        "from sklearn.preprocessing import OneHotEncoder\n",
        "from sklearn.compose import ColumnTransformer\n",
        "from yellowbrick.classifier import ConfusionMatrix\n",
        "from sklearn.ensemble import RandomForestClassifier\n",
        "from sklearn.metrics import accuracy_score, classification_report\n",
        "from yellowbrick.classifier import ConfusionMatrix\n",
        "from sklearn.tree import DecisionTreeClassifier"
      ]
    },
    {
      "cell_type": "code",
      "execution_count": null,
      "metadata": {
        "colab": {
          "base_uri": "https://localhost:8080/",
          "height": 424
        },
        "id": "lWcDWm-R_v-N",
        "outputId": "dbf4ef87-af27-400f-8aaa-a71e3557dfff"
      },
      "outputs": [
        {
          "data": {
            "text/html": [
              "\n",
              "  <div id=\"df-f49033fa-a2ad-4f78-9ad1-cf1a23cd3b02\">\n",
              "    <div class=\"colab-df-container\">\n",
              "      <div>\n",
              "<style scoped>\n",
              "    .dataframe tbody tr th:only-of-type {\n",
              "        vertical-align: middle;\n",
              "    }\n",
              "\n",
              "    .dataframe tbody tr th {\n",
              "        vertical-align: top;\n",
              "    }\n",
              "\n",
              "    .dataframe thead th {\n",
              "        text-align: right;\n",
              "    }\n",
              "</style>\n",
              "<table border=\"1\" class=\"dataframe\">\n",
              "  <thead>\n",
              "    <tr style=\"text-align: right;\">\n",
              "      <th></th>\n",
              "      <th>age</th>\n",
              "      <th>workclass</th>\n",
              "      <th>final-weight</th>\n",
              "      <th>education</th>\n",
              "      <th>education-num</th>\n",
              "      <th>marital-status</th>\n",
              "      <th>occupation</th>\n",
              "      <th>relationship</th>\n",
              "      <th>race</th>\n",
              "      <th>sex</th>\n",
              "      <th>capital-gain</th>\n",
              "      <th>capital-loos</th>\n",
              "      <th>hour-per-week</th>\n",
              "      <th>native-country</th>\n",
              "      <th>income</th>\n",
              "    </tr>\n",
              "  </thead>\n",
              "  <tbody>\n",
              "    <tr>\n",
              "      <th>0</th>\n",
              "      <td>39</td>\n",
              "      <td>State-gov</td>\n",
              "      <td>77516</td>\n",
              "      <td>Bachelors</td>\n",
              "      <td>13</td>\n",
              "      <td>Never-married</td>\n",
              "      <td>Adm-clerical</td>\n",
              "      <td>Not-in-family</td>\n",
              "      <td>White</td>\n",
              "      <td>Male</td>\n",
              "      <td>2174</td>\n",
              "      <td>0</td>\n",
              "      <td>40</td>\n",
              "      <td>United-States</td>\n",
              "      <td>&lt;=50K</td>\n",
              "    </tr>\n",
              "    <tr>\n",
              "      <th>1</th>\n",
              "      <td>50</td>\n",
              "      <td>Self-emp-not-inc</td>\n",
              "      <td>83311</td>\n",
              "      <td>Bachelors</td>\n",
              "      <td>13</td>\n",
              "      <td>Married-civ-spouse</td>\n",
              "      <td>Exec-managerial</td>\n",
              "      <td>Husband</td>\n",
              "      <td>White</td>\n",
              "      <td>Male</td>\n",
              "      <td>0</td>\n",
              "      <td>0</td>\n",
              "      <td>13</td>\n",
              "      <td>United-States</td>\n",
              "      <td>&lt;=50K</td>\n",
              "    </tr>\n",
              "    <tr>\n",
              "      <th>2</th>\n",
              "      <td>38</td>\n",
              "      <td>Private</td>\n",
              "      <td>215646</td>\n",
              "      <td>HS-grad</td>\n",
              "      <td>9</td>\n",
              "      <td>Divorced</td>\n",
              "      <td>Handlers-cleaners</td>\n",
              "      <td>Not-in-family</td>\n",
              "      <td>White</td>\n",
              "      <td>Male</td>\n",
              "      <td>0</td>\n",
              "      <td>0</td>\n",
              "      <td>40</td>\n",
              "      <td>United-States</td>\n",
              "      <td>&lt;=50K</td>\n",
              "    </tr>\n",
              "    <tr>\n",
              "      <th>3</th>\n",
              "      <td>53</td>\n",
              "      <td>Private</td>\n",
              "      <td>234721</td>\n",
              "      <td>11th</td>\n",
              "      <td>7</td>\n",
              "      <td>Married-civ-spouse</td>\n",
              "      <td>Handlers-cleaners</td>\n",
              "      <td>Husband</td>\n",
              "      <td>Black</td>\n",
              "      <td>Male</td>\n",
              "      <td>0</td>\n",
              "      <td>0</td>\n",
              "      <td>40</td>\n",
              "      <td>United-States</td>\n",
              "      <td>&lt;=50K</td>\n",
              "    </tr>\n",
              "    <tr>\n",
              "      <th>4</th>\n",
              "      <td>28</td>\n",
              "      <td>Private</td>\n",
              "      <td>338409</td>\n",
              "      <td>Bachelors</td>\n",
              "      <td>13</td>\n",
              "      <td>Married-civ-spouse</td>\n",
              "      <td>Prof-specialty</td>\n",
              "      <td>Wife</td>\n",
              "      <td>Black</td>\n",
              "      <td>Female</td>\n",
              "      <td>0</td>\n",
              "      <td>0</td>\n",
              "      <td>40</td>\n",
              "      <td>Cuba</td>\n",
              "      <td>&lt;=50K</td>\n",
              "    </tr>\n",
              "    <tr>\n",
              "      <th>...</th>\n",
              "      <td>...</td>\n",
              "      <td>...</td>\n",
              "      <td>...</td>\n",
              "      <td>...</td>\n",
              "      <td>...</td>\n",
              "      <td>...</td>\n",
              "      <td>...</td>\n",
              "      <td>...</td>\n",
              "      <td>...</td>\n",
              "      <td>...</td>\n",
              "      <td>...</td>\n",
              "      <td>...</td>\n",
              "      <td>...</td>\n",
              "      <td>...</td>\n",
              "      <td>...</td>\n",
              "    </tr>\n",
              "    <tr>\n",
              "      <th>32556</th>\n",
              "      <td>27</td>\n",
              "      <td>Private</td>\n",
              "      <td>257302</td>\n",
              "      <td>Assoc-acdm</td>\n",
              "      <td>12</td>\n",
              "      <td>Married-civ-spouse</td>\n",
              "      <td>Tech-support</td>\n",
              "      <td>Wife</td>\n",
              "      <td>White</td>\n",
              "      <td>Female</td>\n",
              "      <td>0</td>\n",
              "      <td>0</td>\n",
              "      <td>38</td>\n",
              "      <td>United-States</td>\n",
              "      <td>&lt;=50K</td>\n",
              "    </tr>\n",
              "    <tr>\n",
              "      <th>32557</th>\n",
              "      <td>40</td>\n",
              "      <td>Private</td>\n",
              "      <td>154374</td>\n",
              "      <td>HS-grad</td>\n",
              "      <td>9</td>\n",
              "      <td>Married-civ-spouse</td>\n",
              "      <td>Machine-op-inspct</td>\n",
              "      <td>Husband</td>\n",
              "      <td>White</td>\n",
              "      <td>Male</td>\n",
              "      <td>0</td>\n",
              "      <td>0</td>\n",
              "      <td>40</td>\n",
              "      <td>United-States</td>\n",
              "      <td>&gt;50K</td>\n",
              "    </tr>\n",
              "    <tr>\n",
              "      <th>32558</th>\n",
              "      <td>58</td>\n",
              "      <td>Private</td>\n",
              "      <td>151910</td>\n",
              "      <td>HS-grad</td>\n",
              "      <td>9</td>\n",
              "      <td>Widowed</td>\n",
              "      <td>Adm-clerical</td>\n",
              "      <td>Unmarried</td>\n",
              "      <td>White</td>\n",
              "      <td>Female</td>\n",
              "      <td>0</td>\n",
              "      <td>0</td>\n",
              "      <td>40</td>\n",
              "      <td>United-States</td>\n",
              "      <td>&lt;=50K</td>\n",
              "    </tr>\n",
              "    <tr>\n",
              "      <th>32559</th>\n",
              "      <td>22</td>\n",
              "      <td>Private</td>\n",
              "      <td>201490</td>\n",
              "      <td>HS-grad</td>\n",
              "      <td>9</td>\n",
              "      <td>Never-married</td>\n",
              "      <td>Adm-clerical</td>\n",
              "      <td>Own-child</td>\n",
              "      <td>White</td>\n",
              "      <td>Male</td>\n",
              "      <td>0</td>\n",
              "      <td>0</td>\n",
              "      <td>20</td>\n",
              "      <td>United-States</td>\n",
              "      <td>&lt;=50K</td>\n",
              "    </tr>\n",
              "    <tr>\n",
              "      <th>32560</th>\n",
              "      <td>52</td>\n",
              "      <td>Self-emp-inc</td>\n",
              "      <td>287927</td>\n",
              "      <td>HS-grad</td>\n",
              "      <td>9</td>\n",
              "      <td>Married-civ-spouse</td>\n",
              "      <td>Exec-managerial</td>\n",
              "      <td>Wife</td>\n",
              "      <td>White</td>\n",
              "      <td>Female</td>\n",
              "      <td>15024</td>\n",
              "      <td>0</td>\n",
              "      <td>40</td>\n",
              "      <td>United-States</td>\n",
              "      <td>&gt;50K</td>\n",
              "    </tr>\n",
              "  </tbody>\n",
              "</table>\n",
              "<p>32561 rows × 15 columns</p>\n",
              "</div>\n",
              "      <button class=\"colab-df-convert\" onclick=\"convertToInteractive('df-f49033fa-a2ad-4f78-9ad1-cf1a23cd3b02')\"\n",
              "              title=\"Convert this dataframe to an interactive table.\"\n",
              "              style=\"display:none;\">\n",
              "        \n",
              "  <svg xmlns=\"http://www.w3.org/2000/svg\" height=\"24px\"viewBox=\"0 0 24 24\"\n",
              "       width=\"24px\">\n",
              "    <path d=\"M0 0h24v24H0V0z\" fill=\"none\"/>\n",
              "    <path d=\"M18.56 5.44l.94 2.06.94-2.06 2.06-.94-2.06-.94-.94-2.06-.94 2.06-2.06.94zm-11 1L8.5 8.5l.94-2.06 2.06-.94-2.06-.94L8.5 2.5l-.94 2.06-2.06.94zm10 10l.94 2.06.94-2.06 2.06-.94-2.06-.94-.94-2.06-.94 2.06-2.06.94z\"/><path d=\"M17.41 7.96l-1.37-1.37c-.4-.4-.92-.59-1.43-.59-.52 0-1.04.2-1.43.59L10.3 9.45l-7.72 7.72c-.78.78-.78 2.05 0 2.83L4 21.41c.39.39.9.59 1.41.59.51 0 1.02-.2 1.41-.59l7.78-7.78 2.81-2.81c.8-.78.8-2.07 0-2.86zM5.41 20L4 18.59l7.72-7.72 1.47 1.35L5.41 20z\"/>\n",
              "  </svg>\n",
              "      </button>\n",
              "      \n",
              "  <style>\n",
              "    .colab-df-container {\n",
              "      display:flex;\n",
              "      flex-wrap:wrap;\n",
              "      gap: 12px;\n",
              "    }\n",
              "\n",
              "    .colab-df-convert {\n",
              "      background-color: #E8F0FE;\n",
              "      border: none;\n",
              "      border-radius: 50%;\n",
              "      cursor: pointer;\n",
              "      display: none;\n",
              "      fill: #1967D2;\n",
              "      height: 32px;\n",
              "      padding: 0 0 0 0;\n",
              "      width: 32px;\n",
              "    }\n",
              "\n",
              "    .colab-df-convert:hover {\n",
              "      background-color: #E2EBFA;\n",
              "      box-shadow: 0px 1px 2px rgba(60, 64, 67, 0.3), 0px 1px 3px 1px rgba(60, 64, 67, 0.15);\n",
              "      fill: #174EA6;\n",
              "    }\n",
              "\n",
              "    [theme=dark] .colab-df-convert {\n",
              "      background-color: #3B4455;\n",
              "      fill: #D2E3FC;\n",
              "    }\n",
              "\n",
              "    [theme=dark] .colab-df-convert:hover {\n",
              "      background-color: #434B5C;\n",
              "      box-shadow: 0px 1px 3px 1px rgba(0, 0, 0, 0.15);\n",
              "      filter: drop-shadow(0px 1px 2px rgba(0, 0, 0, 0.3));\n",
              "      fill: #FFFFFF;\n",
              "    }\n",
              "  </style>\n",
              "\n",
              "      <script>\n",
              "        const buttonEl =\n",
              "          document.querySelector('#df-f49033fa-a2ad-4f78-9ad1-cf1a23cd3b02 button.colab-df-convert');\n",
              "        buttonEl.style.display =\n",
              "          google.colab.kernel.accessAllowed ? 'block' : 'none';\n",
              "\n",
              "        async function convertToInteractive(key) {\n",
              "          const element = document.querySelector('#df-f49033fa-a2ad-4f78-9ad1-cf1a23cd3b02');\n",
              "          const dataTable =\n",
              "            await google.colab.kernel.invokeFunction('convertToInteractive',\n",
              "                                                     [key], {});\n",
              "          if (!dataTable) return;\n",
              "\n",
              "          const docLinkHtml = 'Like what you see? Visit the ' +\n",
              "            '<a target=\"_blank\" href=https://colab.research.google.com/notebooks/data_table.ipynb>data table notebook</a>'\n",
              "            + ' to learn more about interactive tables.';\n",
              "          element.innerHTML = '';\n",
              "          dataTable['output_type'] = 'display_data';\n",
              "          await google.colab.output.renderOutput(dataTable, element);\n",
              "          const docLink = document.createElement('div');\n",
              "          docLink.innerHTML = docLinkHtml;\n",
              "          element.appendChild(docLink);\n",
              "        }\n",
              "      </script>\n",
              "    </div>\n",
              "  </div>\n",
              "  "
            ],
            "text/plain": [
              "       age          workclass  ...  native-country  income\n",
              "0       39          State-gov  ...   United-States   <=50K\n",
              "1       50   Self-emp-not-inc  ...   United-States   <=50K\n",
              "2       38            Private  ...   United-States   <=50K\n",
              "3       53            Private  ...   United-States   <=50K\n",
              "4       28            Private  ...            Cuba   <=50K\n",
              "...    ...                ...  ...             ...     ...\n",
              "32556   27            Private  ...   United-States   <=50K\n",
              "32557   40            Private  ...   United-States    >50K\n",
              "32558   58            Private  ...   United-States   <=50K\n",
              "32559   22            Private  ...   United-States   <=50K\n",
              "32560   52       Self-emp-inc  ...   United-States    >50K\n",
              "\n",
              "[32561 rows x 15 columns]"
            ]
          },
          "execution_count": 5,
          "metadata": {},
          "output_type": "execute_result"
        }
      ],
      "source": [
        "base"
      ]
    },
    {
      "cell_type": "code",
      "execution_count": null,
      "metadata": {
        "colab": {
          "base_uri": "https://localhost:8080/",
          "height": 300
        },
        "id": "zluCNCrJ_yBV",
        "outputId": "c3e855bb-a669-4c92-a14a-e739579f3c75"
      },
      "outputs": [
        {
          "data": {
            "text/html": [
              "\n",
              "  <div id=\"df-8baabf98-799c-489f-90e5-ae72a39b5238\">\n",
              "    <div class=\"colab-df-container\">\n",
              "      <div>\n",
              "<style scoped>\n",
              "    .dataframe tbody tr th:only-of-type {\n",
              "        vertical-align: middle;\n",
              "    }\n",
              "\n",
              "    .dataframe tbody tr th {\n",
              "        vertical-align: top;\n",
              "    }\n",
              "\n",
              "    .dataframe thead th {\n",
              "        text-align: right;\n",
              "    }\n",
              "</style>\n",
              "<table border=\"1\" class=\"dataframe\">\n",
              "  <thead>\n",
              "    <tr style=\"text-align: right;\">\n",
              "      <th></th>\n",
              "      <th>age</th>\n",
              "      <th>final-weight</th>\n",
              "      <th>education-num</th>\n",
              "      <th>capital-gain</th>\n",
              "      <th>capital-loos</th>\n",
              "      <th>hour-per-week</th>\n",
              "    </tr>\n",
              "  </thead>\n",
              "  <tbody>\n",
              "    <tr>\n",
              "      <th>count</th>\n",
              "      <td>32561.000000</td>\n",
              "      <td>3.256100e+04</td>\n",
              "      <td>32561.000000</td>\n",
              "      <td>32561.000000</td>\n",
              "      <td>32561.000000</td>\n",
              "      <td>32561.000000</td>\n",
              "    </tr>\n",
              "    <tr>\n",
              "      <th>mean</th>\n",
              "      <td>38.581647</td>\n",
              "      <td>1.897784e+05</td>\n",
              "      <td>10.080679</td>\n",
              "      <td>1077.648844</td>\n",
              "      <td>87.303830</td>\n",
              "      <td>40.437456</td>\n",
              "    </tr>\n",
              "    <tr>\n",
              "      <th>std</th>\n",
              "      <td>13.640433</td>\n",
              "      <td>1.055500e+05</td>\n",
              "      <td>2.572720</td>\n",
              "      <td>7385.292085</td>\n",
              "      <td>402.960219</td>\n",
              "      <td>12.347429</td>\n",
              "    </tr>\n",
              "    <tr>\n",
              "      <th>min</th>\n",
              "      <td>17.000000</td>\n",
              "      <td>1.228500e+04</td>\n",
              "      <td>1.000000</td>\n",
              "      <td>0.000000</td>\n",
              "      <td>0.000000</td>\n",
              "      <td>1.000000</td>\n",
              "    </tr>\n",
              "    <tr>\n",
              "      <th>25%</th>\n",
              "      <td>28.000000</td>\n",
              "      <td>1.178270e+05</td>\n",
              "      <td>9.000000</td>\n",
              "      <td>0.000000</td>\n",
              "      <td>0.000000</td>\n",
              "      <td>40.000000</td>\n",
              "    </tr>\n",
              "    <tr>\n",
              "      <th>50%</th>\n",
              "      <td>37.000000</td>\n",
              "      <td>1.783560e+05</td>\n",
              "      <td>10.000000</td>\n",
              "      <td>0.000000</td>\n",
              "      <td>0.000000</td>\n",
              "      <td>40.000000</td>\n",
              "    </tr>\n",
              "    <tr>\n",
              "      <th>75%</th>\n",
              "      <td>48.000000</td>\n",
              "      <td>2.370510e+05</td>\n",
              "      <td>12.000000</td>\n",
              "      <td>0.000000</td>\n",
              "      <td>0.000000</td>\n",
              "      <td>45.000000</td>\n",
              "    </tr>\n",
              "    <tr>\n",
              "      <th>max</th>\n",
              "      <td>90.000000</td>\n",
              "      <td>1.484705e+06</td>\n",
              "      <td>16.000000</td>\n",
              "      <td>99999.000000</td>\n",
              "      <td>4356.000000</td>\n",
              "      <td>99.000000</td>\n",
              "    </tr>\n",
              "  </tbody>\n",
              "</table>\n",
              "</div>\n",
              "      <button class=\"colab-df-convert\" onclick=\"convertToInteractive('df-8baabf98-799c-489f-90e5-ae72a39b5238')\"\n",
              "              title=\"Convert this dataframe to an interactive table.\"\n",
              "              style=\"display:none;\">\n",
              "        \n",
              "  <svg xmlns=\"http://www.w3.org/2000/svg\" height=\"24px\"viewBox=\"0 0 24 24\"\n",
              "       width=\"24px\">\n",
              "    <path d=\"M0 0h24v24H0V0z\" fill=\"none\"/>\n",
              "    <path d=\"M18.56 5.44l.94 2.06.94-2.06 2.06-.94-2.06-.94-.94-2.06-.94 2.06-2.06.94zm-11 1L8.5 8.5l.94-2.06 2.06-.94-2.06-.94L8.5 2.5l-.94 2.06-2.06.94zm10 10l.94 2.06.94-2.06 2.06-.94-2.06-.94-.94-2.06-.94 2.06-2.06.94z\"/><path d=\"M17.41 7.96l-1.37-1.37c-.4-.4-.92-.59-1.43-.59-.52 0-1.04.2-1.43.59L10.3 9.45l-7.72 7.72c-.78.78-.78 2.05 0 2.83L4 21.41c.39.39.9.59 1.41.59.51 0 1.02-.2 1.41-.59l7.78-7.78 2.81-2.81c.8-.78.8-2.07 0-2.86zM5.41 20L4 18.59l7.72-7.72 1.47 1.35L5.41 20z\"/>\n",
              "  </svg>\n",
              "      </button>\n",
              "      \n",
              "  <style>\n",
              "    .colab-df-container {\n",
              "      display:flex;\n",
              "      flex-wrap:wrap;\n",
              "      gap: 12px;\n",
              "    }\n",
              "\n",
              "    .colab-df-convert {\n",
              "      background-color: #E8F0FE;\n",
              "      border: none;\n",
              "      border-radius: 50%;\n",
              "      cursor: pointer;\n",
              "      display: none;\n",
              "      fill: #1967D2;\n",
              "      height: 32px;\n",
              "      padding: 0 0 0 0;\n",
              "      width: 32px;\n",
              "    }\n",
              "\n",
              "    .colab-df-convert:hover {\n",
              "      background-color: #E2EBFA;\n",
              "      box-shadow: 0px 1px 2px rgba(60, 64, 67, 0.3), 0px 1px 3px 1px rgba(60, 64, 67, 0.15);\n",
              "      fill: #174EA6;\n",
              "    }\n",
              "\n",
              "    [theme=dark] .colab-df-convert {\n",
              "      background-color: #3B4455;\n",
              "      fill: #D2E3FC;\n",
              "    }\n",
              "\n",
              "    [theme=dark] .colab-df-convert:hover {\n",
              "      background-color: #434B5C;\n",
              "      box-shadow: 0px 1px 3px 1px rgba(0, 0, 0, 0.15);\n",
              "      filter: drop-shadow(0px 1px 2px rgba(0, 0, 0, 0.3));\n",
              "      fill: #FFFFFF;\n",
              "    }\n",
              "  </style>\n",
              "\n",
              "      <script>\n",
              "        const buttonEl =\n",
              "          document.querySelector('#df-8baabf98-799c-489f-90e5-ae72a39b5238 button.colab-df-convert');\n",
              "        buttonEl.style.display =\n",
              "          google.colab.kernel.accessAllowed ? 'block' : 'none';\n",
              "\n",
              "        async function convertToInteractive(key) {\n",
              "          const element = document.querySelector('#df-8baabf98-799c-489f-90e5-ae72a39b5238');\n",
              "          const dataTable =\n",
              "            await google.colab.kernel.invokeFunction('convertToInteractive',\n",
              "                                                     [key], {});\n",
              "          if (!dataTable) return;\n",
              "\n",
              "          const docLinkHtml = 'Like what you see? Visit the ' +\n",
              "            '<a target=\"_blank\" href=https://colab.research.google.com/notebooks/data_table.ipynb>data table notebook</a>'\n",
              "            + ' to learn more about interactive tables.';\n",
              "          element.innerHTML = '';\n",
              "          dataTable['output_type'] = 'display_data';\n",
              "          await google.colab.output.renderOutput(dataTable, element);\n",
              "          const docLink = document.createElement('div');\n",
              "          docLink.innerHTML = docLinkHtml;\n",
              "          element.appendChild(docLink);\n",
              "        }\n",
              "      </script>\n",
              "    </div>\n",
              "  </div>\n",
              "  "
            ],
            "text/plain": [
              "                age  final-weight  ...  capital-loos  hour-per-week\n",
              "count  32561.000000  3.256100e+04  ...  32561.000000   32561.000000\n",
              "mean      38.581647  1.897784e+05  ...     87.303830      40.437456\n",
              "std       13.640433  1.055500e+05  ...    402.960219      12.347429\n",
              "min       17.000000  1.228500e+04  ...      0.000000       1.000000\n",
              "25%       28.000000  1.178270e+05  ...      0.000000      40.000000\n",
              "50%       37.000000  1.783560e+05  ...      0.000000      40.000000\n",
              "75%       48.000000  2.370510e+05  ...      0.000000      45.000000\n",
              "max       90.000000  1.484705e+06  ...   4356.000000      99.000000\n",
              "\n",
              "[8 rows x 6 columns]"
            ]
          },
          "execution_count": 6,
          "metadata": {},
          "output_type": "execute_result"
        }
      ],
      "source": [
        "base.describe()"
      ]
    },
    {
      "cell_type": "code",
      "execution_count": null,
      "metadata": {
        "colab": {
          "base_uri": "https://localhost:8080/"
        },
        "id": "zvx38AR2_0c1",
        "outputId": "e8413a34-60f9-4151-ecc6-ac72a8f69a5e"
      },
      "outputs": [
        {
          "data": {
            "text/plain": [
              "age               0.0\n",
              "workclass         0.0\n",
              "final-weight      0.0\n",
              "education         0.0\n",
              "education-num     0.0\n",
              "marital-status    0.0\n",
              "occupation        0.0\n",
              "relationship      0.0\n",
              "race              0.0\n",
              "sex               0.0\n",
              "capital-gain      0.0\n",
              "capital-loos      0.0\n",
              "hour-per-week     0.0\n",
              "native-country    0.0\n",
              "income            0.0\n",
              "dtype: float64"
            ]
          },
          "execution_count": 9,
          "metadata": {},
          "output_type": "execute_result"
        }
      ],
      "source": [
        "base[base.isnull()].sum()"
      ]
    },
    {
      "cell_type": "code",
      "execution_count": null,
      "metadata": {
        "colab": {
          "base_uri": "https://localhost:8080/",
          "height": 265
        },
        "id": "mDgqiuKB__F9",
        "outputId": "3cec1275-3420-4f7a-f040-02921f8decf1"
      },
      "outputs": [
        {
          "data": {
            "image/png": "[encoded data removed]",
            "text/plain": [
              "<Figure size 432x288 with 1 Axes>"
            ]
          },
          "metadata": {
            "needs_background": "light"
          },
          "output_type": "display_data"
        }
      ],
      "source": [
        "plt.hist(x = base['income']);"
      ]
    },
    {
      "cell_type": "code",
      "execution_count": null,
      "metadata": {
        "colab": {
          "base_uri": "https://localhost:8080/",
          "height": 297
        },
        "id": "IrNYqpWSAjNv",
        "outputId": "fe4f4d9f-09ca-4dd9-f3e3-92c2075507da"
      },
      "outputs": [
        {
          "data": {
            "text/plain": [
              "<matplotlib.axes._subplots.AxesSubplot at 0x7f1251c9b990>"
            ]
          },
          "execution_count": 12,
          "metadata": {},
          "output_type": "execute_result"
        },
        {
          "data": {
            "image/png": "[encoded data removed]",
            "text/plain": [
              "<Figure size 432x288 with 1 Axes>"
            ]
          },
          "metadata": {},
          "output_type": "display_data"
        }
      ],
      "source": [
        "sns.countplot(x = base['income'])"
      ]
    },
    {
      "cell_type": "code",
      "execution_count": null,
      "metadata": {
        "colab": {
          "base_uri": "https://localhost:8080/"
        },
        "id": "-5VlhGCfAvjF",
        "outputId": "401af893-e5ac-498b-9606-0c6346bf0a6c"
      },
      "outputs": [
        {
          "data": {
            "text/plain": [
              "(array([' <=50K', ' >50K'], dtype=object), array([24720,  7841]))"
            ]
          },
          "execution_count": 13,
          "metadata": {},
          "output_type": "execute_result"
        }
      ],
      "source": [
        "np.unique(base['income'], return_counts = True)"
      ]
    },
    {
      "cell_type": "code",
      "execution_count": null,
      "metadata": {
        "colab": {
          "base_uri": "https://localhost:8080/"
        },
        "id": "7CoBrnhSBP72",
        "outputId": "b7c9cd53-9bb7-4ab2-9832-1b57530e1614"
      },
      "outputs": [
        {
          "data": {
            "text/plain": [
              "32561"
            ]
          },
          "execution_count": 15,
          "metadata": {},
          "output_type": "execute_result"
        }
      ],
      "source": [
        "base['income'].count()"
      ]
    },
    {
      "cell_type": "code",
      "execution_count": null,
      "metadata": {
        "id": "IhPszpE_EUdt"
      },
      "outputs": [],
      "source": [
        "x_base = base.iloc[:,0:14].values"
      ]
    },
    {
      "cell_type": "code",
      "execution_count": null,
      "metadata": {
        "colab": {
          "base_uri": "https://localhost:8080/"
        },
        "id": "vvk0BN6mFZ92",
        "outputId": "c16b4e93-7092-47da-bf5d-aba7c3ad57c5"
      },
      "outputs": [
        {
          "data": {
            "text/plain": [
              "array([[39, ' State-gov', 77516, ..., 0, 40, ' United-States'],\n",
              "       [50, ' Self-emp-not-inc', 83311, ..., 0, 13, ' United-States'],\n",
              "       [38, ' Private', 215646, ..., 0, 40, ' United-States'],\n",
              "       ...,\n",
              "       [58, ' Private', 151910, ..., 0, 40, ' United-States'],\n",
              "       [22, ' Private', 201490, ..., 0, 20, ' United-States'],\n",
              "       [52, ' Self-emp-inc', 287927, ..., 0, 40, ' United-States']],\n",
              "      dtype=object)"
            ]
          },
          "execution_count": 37,
          "metadata": {},
          "output_type": "execute_result"
        }
      ],
      "source": [
        "x_base"
      ]
    },
    {
      "cell_type": "code",
      "execution_count": null,
      "metadata": {
        "id": "Wb75x16YFeHc"
      },
      "outputs": [],
      "source": [
        "y_base = base.iloc[:,14]"
      ]
    },
    {
      "cell_type": "code",
      "execution_count": null,
      "metadata": {
        "colab": {
          "base_uri": "https://localhost:8080/"
        },
        "id": "mcBJ7yHeFsG0",
        "outputId": "3e8f7af4-7033-4ad5-cf86-f7d049f8fa68"
      },
      "outputs": [
        {
          "data": {
            "text/plain": [
              "0         <=50K\n",
              "1         <=50K\n",
              "2         <=50K\n",
              "3         <=50K\n",
              "4         <=50K\n",
              "          ...  \n",
              "32556     <=50K\n",
              "32557      >50K\n",
              "32558     <=50K\n",
              "32559     <=50K\n",
              "32560      >50K\n",
              "Name: income, Length: 32561, dtype: object"
            ]
          },
          "execution_count": 38,
          "metadata": {},
          "output_type": "execute_result"
        }
      ],
      "source": [
        "y_base"
      ]
    },
    {
      "cell_type": "code",
      "execution_count": null,
      "metadata": {
        "colab": {
          "base_uri": "https://localhost:8080/"
        },
        "id": "9TMV1doml8f9",
        "outputId": "6cf38e17-a9f6-4e0a-f29d-09abce091b05"
      },
      "outputs": [
        {
          "data": {
            "text/plain": [
              "array([39, ' State-gov', 77516, ' Bachelors', 13, ' Never-married',\n",
              "       ' Adm-clerical', ' Not-in-family', ' White', ' Male', 2174, 0, 40,\n",
              "       ' United-States'], dtype=object)"
            ]
          },
          "execution_count": 40,
          "metadata": {},
          "output_type": "execute_result"
        }
      ],
      "source": [
        "x_base[0]"
      ]
    },
    {
      "cell_type": "code",
      "execution_count": null,
      "metadata": {
        "id": "GlyciJD3mBPr"
      },
      "outputs": [],
      "source": [
        "label_encoder_trabalho = LabelEncoder()\n",
        "label_encoder_graduacao = LabelEncoder()\n",
        "label_encoder_marital = LabelEncoder()\n",
        "label_encoder_ocupacao = LabelEncoder()\n",
        "label_encoder_relacionamento = LabelEncoder()\n",
        "label_encoder_cor = LabelEncoder()\n",
        "label_encoder_sexo = LabelEncoder()\n",
        "label_encoder_nacionalidade = LabelEncoder()"
      ]
    },
    {
      "cell_type": "code",
      "execution_count": null,
      "metadata": {
        "id": "gs126MN9mjQu"
      },
      "outputs": [],
      "source": [
        "x_base[:,1] = label_encoder_trabalho.fit_transform(x_base[:,1])\n",
        "x_base[:,3] = label_encoder_graduacao.fit_transform(x_base[:,3])\n",
        "x_base[:,5] = label_encoder_marital.fit_transform(x_base[:,5])\n",
        "x_base[:,6] = label_encoder_ocupacao.fit_transform(x_base[:,6])\n",
        "x_base[:,7] = label_encoder_relacionamento.fit_transform(x_base[:,7])\n",
        "x_base[:,8] = label_encoder_cor.fit_transform(x_base[:,8])\n",
        "x_base[:,9] = label_encoder_sexo.fit_transform(x_base[:,9])\n",
        "x_base[:,13] = label_encoder_nacionalidade.fit_transform(x_base[:,13])"
      ]
    },
    {
      "cell_type": "code",
      "execution_count": null,
      "metadata": {
        "colab": {
          "base_uri": "https://localhost:8080/"
        },
        "id": "kxx3WRd0nVRt",
        "outputId": "e0d90a13-6b2c-44e7-8439-8528a3c5e5c6"
      },
      "outputs": [
        {
          "data": {
            "text/plain": [
              "array([[39, 7, 77516, ..., 0, 40, 39],\n",
              "       [50, 6, 83311, ..., 0, 13, 39],\n",
              "       [38, 4, 215646, ..., 0, 40, 39],\n",
              "       ...,\n",
              "       [58, 4, 151910, ..., 0, 40, 39],\n",
              "       [22, 4, 201490, ..., 0, 20, 39],\n",
              "       [52, 5, 287927, ..., 0, 40, 39]], dtype=object)"
            ]
          },
          "execution_count": 43,
          "metadata": {},
          "output_type": "execute_result"
        }
      ],
      "source": [
        "x_base"
      ]
    },
    {
      "cell_type": "code",
      "execution_count": null,
      "metadata": {
        "id": "xm5bxMc1piAd"
      },
      "outputs": [],
      "source": [
        "onehotenconder_census = ColumnTransformer(transformers=[('OneHot', OneHotEncoder(),[1,3,5,6,7,8,9,13])], remainder='passthrough')"
      ]
    },
    {
      "cell_type": "code",
      "execution_count": null,
      "metadata": {
        "id": "KJp4i21dqUXN"
      },
      "outputs": [],
      "source": [
        "x_base = onehotenconder_census.fit_transform(x_base).toarray()"
      ]
    },
    {
      "cell_type": "code",
      "execution_count": null,
      "metadata": {
        "colab": {
          "base_uri": "https://localhost:8080/"
        },
        "id": "d6EHm57Bqcmz",
        "outputId": "387e12e4-8634-4a24-b764-ce26fc3e70b3"
      },
      "outputs": [
        {
          "data": {
            "text/plain": [
              "array([[0.0000e+00, 0.0000e+00, 0.0000e+00, ..., 2.1740e+03, 0.0000e+00,\n",
              "        4.0000e+01],\n",
              "       [0.0000e+00, 0.0000e+00, 0.0000e+00, ..., 0.0000e+00, 0.0000e+00,\n",
              "        1.3000e+01],\n",
              "       [0.0000e+00, 0.0000e+00, 0.0000e+00, ..., 0.0000e+00, 0.0000e+00,\n",
              "        4.0000e+01],\n",
              "       ...,\n",
              "       [0.0000e+00, 0.0000e+00, 0.0000e+00, ..., 0.0000e+00, 0.0000e+00,\n",
              "        4.0000e+01],\n",
              "       [0.0000e+00, 0.0000e+00, 0.0000e+00, ..., 0.0000e+00, 0.0000e+00,\n",
              "        2.0000e+01],\n",
              "       [0.0000e+00, 0.0000e+00, 0.0000e+00, ..., 1.5024e+04, 0.0000e+00,\n",
              "        4.0000e+01]])"
            ]
          },
          "execution_count": 47,
          "metadata": {},
          "output_type": "execute_result"
        }
      ],
      "source": [
        "x_base"
      ]
    },
    {
      "cell_type": "code",
      "execution_count": null,
      "metadata": {
        "colab": {
          "base_uri": "https://localhost:8080/"
        },
        "id": "FPYpGO47qkgU",
        "outputId": "bcd921cd-efa3-46bb-bcdd-3d564b8943e1"
      },
      "outputs": [
        {
          "data": {
            "text/plain": [
              "array([0.0000e+00, 0.0000e+00, 0.0000e+00, 0.0000e+00, 0.0000e+00,\n",
              "       0.0000e+00, 0.0000e+00, 1.0000e+00, 0.0000e+00, 0.0000e+00,\n",
              "       0.0000e+00, 0.0000e+00, 0.0000e+00, 0.0000e+00, 0.0000e+00,\n",
              "       0.0000e+00, 0.0000e+00, 0.0000e+00, 1.0000e+00, 0.0000e+00,\n",
              "       0.0000e+00, 0.0000e+00, 0.0000e+00, 0.0000e+00, 0.0000e+00,\n",
              "       0.0000e+00, 0.0000e+00, 0.0000e+00, 0.0000e+00, 1.0000e+00,\n",
              "       0.0000e+00, 0.0000e+00, 0.0000e+00, 1.0000e+00, 0.0000e+00,\n",
              "       0.0000e+00, 0.0000e+00, 0.0000e+00, 0.0000e+00, 0.0000e+00,\n",
              "       0.0000e+00, 0.0000e+00, 0.0000e+00, 0.0000e+00, 0.0000e+00,\n",
              "       0.0000e+00, 0.0000e+00, 0.0000e+00, 1.0000e+00, 0.0000e+00,\n",
              "       0.0000e+00, 0.0000e+00, 0.0000e+00, 0.0000e+00, 0.0000e+00,\n",
              "       0.0000e+00, 0.0000e+00, 1.0000e+00, 0.0000e+00, 1.0000e+00,\n",
              "       0.0000e+00, 0.0000e+00, 0.0000e+00, 0.0000e+00, 0.0000e+00,\n",
              "       0.0000e+00, 0.0000e+00, 0.0000e+00, 0.0000e+00, 0.0000e+00,\n",
              "       0.0000e+00, 0.0000e+00, 0.0000e+00, 0.0000e+00, 0.0000e+00,\n",
              "       0.0000e+00, 0.0000e+00, 0.0000e+00, 0.0000e+00, 0.0000e+00,\n",
              "       0.0000e+00, 0.0000e+00, 0.0000e+00, 0.0000e+00, 0.0000e+00,\n",
              "       0.0000e+00, 0.0000e+00, 0.0000e+00, 0.0000e+00, 0.0000e+00,\n",
              "       0.0000e+00, 0.0000e+00, 0.0000e+00, 0.0000e+00, 0.0000e+00,\n",
              "       0.0000e+00, 0.0000e+00, 0.0000e+00, 0.0000e+00, 1.0000e+00,\n",
              "       0.0000e+00, 0.0000e+00, 3.9000e+01, 7.7516e+04, 1.3000e+01,\n",
              "       2.1740e+03, 0.0000e+00, 4.0000e+01])"
            ]
          },
          "execution_count": 48,
          "metadata": {},
          "output_type": "execute_result"
        }
      ],
      "source": [
        "x_base[0]"
      ]
    },
    {
      "cell_type": "code",
      "execution_count": null,
      "metadata": {
        "colab": {
          "base_uri": "https://localhost:8080/"
        },
        "id": "9YRvAfXxqnib",
        "outputId": "b8d19f50-04bc-42fa-f4da-a69225dcabaf"
      },
      "outputs": [
        {
          "data": {
            "text/plain": [
              "(32561, 108)"
            ]
          },
          "execution_count": 49,
          "metadata": {},
          "output_type": "execute_result"
        }
      ],
      "source": [
        "x_base.shape"
      ]
    },
    {
      "cell_type": "code",
      "execution_count": null,
      "metadata": {
        "id": "JlO1iYKXxk1D"
      },
      "outputs": [],
      "source": [
        "from sklearn.model_selection import train_test_split\n",
        "from sklearn.metrics import accuracy_score\n",
        "import pickle"
      ]
    },
    {
      "cell_type": "code",
      "execution_count": null,
      "metadata": {
        "id": "G9gy7P-GxTSl"
      },
      "outputs": [],
      "source": [
        "x_base_treinamento, x_base_teste, y_base_treinamento, y_base_teste = train_test_split(x_base,y_base,test_size=0.15, random_state = 0)"
      ]
    },
    {
      "cell_type": "code",
      "execution_count": null,
      "metadata": {
        "colab": {
          "base_uri": "https://localhost:8080/"
        },
        "id": "CWN06fgQx7y0",
        "outputId": "9c39df8f-fd5a-4252-dd39-cc7d47ff9eed"
      },
      "outputs": [
        {
          "data": {
            "text/plain": [
              "((27676, 108), (27676,))"
            ]
          },
          "execution_count": 52,
          "metadata": {},
          "output_type": "execute_result"
        }
      ],
      "source": [
        "x_base_treinamento.shape, y_base_treinamento.shape"
      ]
    },
    {
      "cell_type": "code",
      "execution_count": null,
      "metadata": {
        "colab": {
          "base_uri": "https://localhost:8080/"
        },
        "id": "fAblGzYxyBBs",
        "outputId": "790085a9-217f-4dee-9bf1-4a738b4cbe69"
      },
      "outputs": [
        {
          "data": {
            "text/plain": [
              "((4885, 108), (4885,))"
            ]
          },
          "execution_count": 53,
          "metadata": {},
          "output_type": "execute_result"
        }
      ],
      "source": [
        "x_base_teste.shape, y_base_teste.shape"
      ]
    },
    {
      "cell_type": "markdown",
      "metadata": {
        "id": "zHE82fut2dm_"
      },
      "source": [
        "# NAIVE BAYES"
      ]
    },
    {
      "cell_type": "code",
      "execution_count": null,
      "metadata": {
        "id": "0Bj8a7pgy4NV"
      },
      "outputs": [],
      "source": [
        "from sklearn.naive_bayes import GaussianNB\n",
        "naive_bayes = GaussianNB()"
      ]
    },
    {
      "cell_type": "code",
      "execution_count": null,
      "metadata": {
        "colab": {
          "base_uri": "https://localhost:8080/"
        },
        "id": "ALukRSDfzSkM",
        "outputId": "108c71ef-12ba-4297-8574-6083d6125503"
      },
      "outputs": [
        {
          "data": {
            "text/plain": [
              "GaussianNB()"
            ]
          },
          "execution_count": 28,
          "metadata": {},
          "output_type": "execute_result"
        }
      ],
      "source": [
        "naive_bayes.fit(x_base_treinamento,y_base_treinamento)"
      ]
    },
    {
      "cell_type": "code",
      "execution_count": null,
      "metadata": {
        "colab": {
          "base_uri": "https://localhost:8080/"
        },
        "id": "ACf15A0AzTvM",
        "outputId": "4b4cab77-f177-4c66-ce5b-b51b70665619"
      },
      "outputs": [
        {
          "data": {
            "text/plain": [
              "array([' <=50K', ' <=50K', ' <=50K', ..., ' <=50K', ' <=50K', ' <=50K'],\n",
              "      dtype='<U6')"
            ]
          },
          "execution_count": 31,
          "metadata": {},
          "output_type": "execute_result"
        }
      ],
      "source": [
        "previsao = naive_bayes.predict(x_base_teste)\n",
        "previsao"
      ]
    },
    {
      "cell_type": "code",
      "execution_count": null,
      "metadata": {
        "colab": {
          "base_uri": "https://localhost:8080/"
        },
        "id": "Ic8lca6azdj1",
        "outputId": "2d2c1400-be8d-449d-c227-575226b20ab2"
      },
      "outputs": [
        {
          "data": {
            "text/plain": [
              "0.7949883306719077"
            ]
          },
          "execution_count": 33,
          "metadata": {},
          "output_type": "execute_result"
        }
      ],
      "source": [
        "accuracy_score(y_base_teste, previsao)"
      ]
    },
    {
      "cell_type": "code",
      "execution_count": null,
      "metadata": {
        "colab": {
          "base_uri": "https://localhost:8080/",
          "height": 395
        },
        "id": "AD81mC5y02Z4",
        "outputId": "b60c607d-ce13-43bd-ccfe-a2129c63990a"
      },
      "outputs": [
        {
          "data": {
            "text/plain": [
              "0.7949883306719077"
            ]
          },
          "execution_count": 44,
          "metadata": {},
          "output_type": "execute_result"
        },
        {
          "data": {
            "image/png": "[encoded data removed]",
            "text/plain": [
              "<Figure size 576x396 with 1 Axes>"
            ]
          },
          "metadata": {},
          "output_type": "display_data"
        }
      ],
      "source": [
        "cm = ConfusionMatrix(naive_bayes)\n",
        "cm.fit(x_base_treinamento,y_base_treinamento)\n",
        "cm.score(x_base_teste,y_base_teste)"
      ]
    },
    {
      "cell_type": "markdown",
      "metadata": {
        "id": "9JCVZh89JpQs"
      },
      "source": [
        "# RANDOM FOREST"
      ]
    },
    {
      "cell_type": "code",
      "execution_count": null,
      "metadata": {
        "colab": {
          "base_uri": "https://localhost:8080/"
        },
        "id": "WkE5wO9yH6hN",
        "outputId": "949f55c3-62ab-4d33-82f3-522f02f5016e"
      },
      "outputs": [
        {
          "data": {
            "text/plain": [
              "RandomForestClassifier(criterion='entropy', n_estimators=97, random_state=0)"
            ]
          },
          "execution_count": 83,
          "metadata": {},
          "output_type": "execute_result"
        }
      ],
      "source": [
        "random_forest_dados = RandomForestClassifier(n_estimators=97, criterion='entropy', random_state=0)\n",
        "random_forest_dados.fit(x_base_treinamento, y_base_treinamento)\n"
      ]
    },
    {
      "cell_type": "code",
      "execution_count": null,
      "metadata": {
        "id": "g08Ke6GOOBtw"
      },
      "outputs": [],
      "source": [
        "previsoes = random_forest_dados.predict(x_base_teste)"
      ]
    },
    {
      "cell_type": "code",
      "execution_count": null,
      "metadata": {
        "colab": {
          "base_uri": "https://localhost:8080/"
        },
        "id": "Pg0tTO2oQ5oK",
        "outputId": "831f0b3a-8ecb-4f7c-956c-ec71e878bea7"
      },
      "outputs": [
        {
          "data": {
            "text/plain": [
              "array([' <=50K', ' <=50K', ' <=50K', ..., ' <=50K', ' >50K', ' <=50K'],\n",
              "      dtype=object)"
            ]
          },
          "execution_count": 89,
          "metadata": {},
          "output_type": "execute_result"
        }
      ],
      "source": [
        "previsoes"
      ]
    },
    {
      "cell_type": "code",
      "execution_count": null,
      "metadata": {
        "colab": {
          "base_uri": "https://localhost:8080/"
        },
        "id": "JdZ9cGoOOZuo",
        "outputId": "1f7aed55-60d3-4d20-9cdf-89d738d3c116"
      },
      "outputs": [
        {
          "data": {
            "text/plain": [
              "0.8518609507431519"
            ]
          },
          "execution_count": 85,
          "metadata": {},
          "output_type": "execute_result"
        }
      ],
      "source": [
        "accuracy_score(y_base_teste, previsoes)"
      ]
    },
    {
      "cell_type": "code",
      "execution_count": null,
      "metadata": {
        "colab": {
          "base_uri": "https://localhost:8080/",
          "height": 395
        },
        "id": "QZya8zkUPb3Z",
        "outputId": "f34bd44e-cd3d-447a-8925-b24672e8be9e"
      },
      "outputs": [
        {
          "data": {
            "text/plain": [
              "0.8518609507431519"
            ]
          },
          "execution_count": 86,
          "metadata": {},
          "output_type": "execute_result"
        },
        {
          "data": {
            "image/png": "[encoded data removed]",
            "text/plain": [
              "<Figure size 576x396 with 1 Axes>"
            ]
          },
          "metadata": {},
          "output_type": "display_data"
        }
      ],
      "source": [
        "cm = ConfusionMatrix(random_forest_dados)\n",
        "cm.fit(x_base_treinamento,y_base_treinamento)\n",
        "cm.score(x_base_teste,y_base_teste)"
      ]
    },
    {
      "cell_type": "code",
      "execution_count": null,
      "metadata": {
        "colab": {
          "base_uri": "https://localhost:8080/"
        },
        "id": "O4gkNm5FPvuT",
        "outputId": "5c108363-44c7-4779-cc47-ea4a195b068e"
      },
      "outputs": [
        {
          "name": "stdout",
          "output_type": "stream",
          "text": [
            "              precision    recall  f1-score   support\n",
            "\n",
            "       <=50K       0.88      0.93      0.90      6159\n",
            "        >50K       0.73      0.62      0.67      1982\n",
            "\n",
            "    accuracy                           0.85      8141\n",
            "   macro avg       0.81      0.77      0.79      8141\n",
            "weighted avg       0.85      0.85      0.85      8141\n",
            "\n"
          ]
        }
      ],
      "source": [
        "print(classification_report(y_base_teste, previsoes))"
      ]
    },
    {
      "cell_type": "markdown",
      "metadata": {
        "id": "fTOO4Oh4yTJP"
      },
      "source": [
        "# ARVORE DE DECISÃO"
      ]
    },
    {
      "cell_type": "code",
      "execution_count": null,
      "metadata": {
        "colab": {
          "base_uri": "https://localhost:8080/"
        },
        "id": "La78S2KEyuf6",
        "outputId": "508cdba1-eef8-44b3-886d-d69e7f304262"
      },
      "outputs": [
        {
          "data": {
            "text/plain": [
              "DecisionTreeClassifier(criterion='entropy', random_state=0)"
            ]
          },
          "execution_count": 31,
          "metadata": {},
          "output_type": "execute_result"
        }
      ],
      "source": [
        "arvore_de_decisao = DecisionTreeClassifier(criterion='entropy',random_state=0)\n",
        "arvore_de_decisao.fit(x_base_treinamento, y_base_treinamento)"
      ]
    },
    {
      "cell_type": "code",
      "execution_count": null,
      "metadata": {
        "colab": {
          "base_uri": "https://localhost:8080/"
        },
        "id": "P63p7jQxy8AT",
        "outputId": "b5fc8150-aa7c-45ea-bfb2-2574ccff400d"
      },
      "outputs": [
        {
          "data": {
            "text/plain": [
              "array([' <=50K', ' <=50K', ' <=50K', ..., ' <=50K', ' >50K', ' <=50K'],\n",
              "      dtype=object)"
            ]
          },
          "execution_count": 33,
          "metadata": {},
          "output_type": "execute_result"
        }
      ],
      "source": [
        "previsao = arvore_de_decisao.predict(x_base_teste)\n",
        "previsao"
      ]
    },
    {
      "cell_type": "code",
      "execution_count": null,
      "metadata": {
        "colab": {
          "base_uri": "https://localhost:8080/"
        },
        "id": "vsPce-1_0Qnf",
        "outputId": "1ac2e9df-663e-4db1-a83b-0b558f815ad9"
      },
      "outputs": [
        {
          "data": {
            "text/plain": [
              "0.8169758014985874"
            ]
          },
          "execution_count": 34,
          "metadata": {},
          "output_type": "execute_result"
        }
      ],
      "source": [
        "accuracy_score(y_base_teste, previsao)"
      ]
    },
    {
      "cell_type": "code",
      "execution_count": null,
      "metadata": {
        "colab": {
          "base_uri": "https://localhost:8080/",
          "height": 395
        },
        "id": "2LWI8xJP03wu",
        "outputId": "527b1edc-82e5-443b-fd6f-203fb888b687"
      },
      "outputs": [
        {
          "data": {
            "text/plain": [
              "0.81722147156369"
            ]
          },
          "execution_count": 30,
          "metadata": {},
          "output_type": "execute_result"
        },
        {
          "data": {
            "image/png": "[encoded data removed]",
            "text/plain": [
              "<Figure size 576x396 with 1 Axes>"
            ]
          },
          "metadata": {},
          "output_type": "display_data"
        }
      ],
      "source": [
        "cm = ConfusionMatrix(arvore_de_decisao)\n",
        "cm.fit(x_base_treinamento,y_base_treinamento)\n",
        "cm.score(x_base_teste, y_base_teste)"
      ]
    },
    {
      "cell_type": "code",
      "execution_count": null,
      "metadata": {
        "colab": {
          "base_uri": "https://localhost:8080/"
        },
        "id": "ZLC1ljBM1OqU",
        "outputId": "6286966d-6087-450c-9c46-e26e49075101"
      },
      "outputs": [
        {
          "name": "stdout",
          "output_type": "stream",
          "text": [
            "              precision    recall  f1-score   support\n",
            "\n",
            "       <=50K       0.88      0.88      0.88      6159\n",
            "        >50K       0.62      0.63      0.62      1982\n",
            "\n",
            "    accuracy                           0.82      8141\n",
            "   macro avg       0.75      0.75      0.75      8141\n",
            "weighted avg       0.82      0.82      0.82      8141\n",
            "\n"
          ]
        }
      ],
      "source": [
        "print(classification_report(y_base_teste, previsao))"
      ]
    },
    {
      "cell_type": "markdown",
      "metadata": {
        "id": "pwgmWiM3DgRQ"
      },
      "source": [
        "# KNN"
      ]
    },
    {
      "cell_type": "code",
      "execution_count": null,
      "metadata": {
        "colab": {
          "base_uri": "https://localhost:8080/"
        },
        "id": "kxtT57EvEBbB",
        "outputId": "c0442397-5adf-4d8f-cc54-c2624006c1f2"
      },
      "outputs": [
        {
          "data": {
            "text/plain": [
              "((24420, 108), (24420,))"
            ]
          },
          "execution_count": 12,
          "metadata": {},
          "output_type": "execute_result"
        }
      ],
      "source": [
        "x_base_treinamento.shape, y_base_treinamento.shape"
      ]
    },
    {
      "cell_type": "code",
      "execution_count": null,
      "metadata": {
        "colab": {
          "base_uri": "https://localhost:8080/"
        },
        "id": "-j7N5aOHXf8A",
        "outputId": "e44a4d2a-5997-4295-8139-ffc25bea5be1"
      },
      "outputs": [
        {
          "data": {
            "text/plain": [
              "((8141, 108), (8141,))"
            ]
          },
          "execution_count": 39,
          "metadata": {},
          "output_type": "execute_result"
        }
      ],
      "source": [
        "x_base_teste.shape, y_base_teste.shape"
      ]
    },
    {
      "cell_type": "code",
      "execution_count": null,
      "metadata": {
        "id": "GgugtL0bXpig"
      },
      "outputs": [],
      "source": [
        "from sklearn.neighbors import KNeighborsClassifier"
      ]
    },
    {
      "cell_type": "code",
      "execution_count": null,
      "metadata": {
        "colab": {
          "base_uri": "https://localhost:8080/"
        },
        "id": "ZuhC6p65Xywg",
        "outputId": "8b2643ae-cd82-42ce-b061-84066beca42b"
      },
      "outputs": [
        {
          "data": {
            "text/plain": [
              "KNeighborsClassifier()"
            ]
          },
          "execution_count": 32,
          "metadata": {},
          "output_type": "execute_result"
        }
      ],
      "source": [
        "knn_census = KNeighborsClassifier(n_neighbors=5, metric=\"minkowski\", p=2)\n",
        "knn_census.fit(x_base_treinamento, y_base_treinamento)"
      ]
    },
    {
      "cell_type": "code",
      "execution_count": null,
      "metadata": {
        "colab": {
          "base_uri": "https://localhost:8080/"
        },
        "id": "l3yXUjVcYYvj",
        "outputId": "637e86b0-f188-49fa-cc84-07501efb09fc"
      },
      "outputs": [
        {
          "data": {
            "text/plain": [
              "array([' <=50K', ' >50K', ' <=50K', ..., ' <=50K', ' <=50K', ' >50K'],\n",
              "      dtype=object)"
            ]
          },
          "execution_count": 33,
          "metadata": {},
          "output_type": "execute_result"
        }
      ],
      "source": [
        "previsoes = knn_census.predict(x_base_teste)\n",
        "previsoes"
      ]
    },
    {
      "cell_type": "code",
      "execution_count": null,
      "metadata": {
        "colab": {
          "base_uri": "https://localhost:8080/"
        },
        "id": "ktOy8vkxYlVR",
        "outputId": "b61d4305-b766-4ec9-ec6e-11228b86ef34"
      },
      "outputs": [
        {
          "data": {
            "text/plain": [
              "0.7690701388035868"
            ]
          },
          "execution_count": 34,
          "metadata": {},
          "output_type": "execute_result"
        }
      ],
      "source": [
        "accuracy_score(y_base_teste, previsoes)"
      ]
    },
    {
      "cell_type": "code",
      "execution_count": null,
      "metadata": {
        "colab": {
          "base_uri": "https://localhost:8080/",
          "height": 395
        },
        "id": "336anRYTZOvO",
        "outputId": "a8e861c4-cd32-4586-f145-567bca67f118"
      },
      "outputs": [
        {
          "data": {
            "text/plain": [
              "0.7690701388035868"
            ]
          },
          "execution_count": 36,
          "metadata": {},
          "output_type": "execute_result"
        },
        {
          "data": {
            "image/png": "[encoded data removed]",
            "text/plain": [
              "<Figure size 576x396 with 1 Axes>"
            ]
          },
          "metadata": {},
          "output_type": "display_data"
        }
      ],
      "source": [
        "from yellowbrick.classifier import ConfusionMatrix\n",
        "cm = ConfusionMatrix(knn_census)\n",
        "cm.fit(x_base_treinamento, y_base_treinamento)\n",
        "cm.score(x_base_teste,y_base_teste)"
      ]
    },
    {
      "cell_type": "code",
      "execution_count": null,
      "metadata": {
        "colab": {
          "base_uri": "https://localhost:8080/"
        },
        "id": "TUSVXIsxZzn6",
        "outputId": "0617abb2-abda-4027-b650-467cf8354dd9"
      },
      "outputs": [
        {
          "name": "stdout",
          "output_type": "stream",
          "text": [
            "              precision    recall  f1-score   support\n",
            "\n",
            "       <=50K       0.80      0.92      0.86      6159\n",
            "        >50K       0.55      0.31      0.39      1982\n",
            "\n",
            "    accuracy                           0.77      8141\n",
            "   macro avg       0.68      0.61      0.63      8141\n",
            "weighted avg       0.74      0.77      0.74      8141\n",
            "\n"
          ]
        }
      ],
      "source": [
        "print(classification_report(y_base_teste, previsoes))"
      ]
    },
    {
      "cell_type": "markdown",
      "metadata": {
        "id": "k_etLoR-KgMT"
      },
      "source": [
        "# Regressão Logística"
      ]
    },
    {
      "cell_type": "code",
      "execution_count": null,
      "metadata": {
        "id": "M-i5X7GfKnaZ"
      },
      "outputs": [],
      "source": [
        "from sklearn.linear_model import LogisticRegression"
      ]
    },
    {
      "cell_type": "code",
      "execution_count": null,
      "metadata": {
        "colab": {
          "base_uri": "https://localhost:8080/"
        },
        "id": "W68ickiOLj9E",
        "outputId": "4236e623-2a8a-406e-d269-fa4082a4311f"
      },
      "outputs": [
        {
          "data": {
            "text/plain": [
              "((27676, 108), (27676,))"
            ]
          },
          "execution_count": 58,
          "metadata": {},
          "output_type": "execute_result"
        }
      ],
      "source": [
        "x_base_treinamento.shape, y_base_treinamento.shape"
      ]
    },
    {
      "cell_type": "code",
      "execution_count": null,
      "metadata": {
        "colab": {
          "base_uri": "https://localhost:8080/"
        },
        "id": "3pbTGEQ9LsMa",
        "outputId": "4468ccb1-c33b-424b-b588-29edd4bf34e5"
      },
      "outputs": [
        {
          "data": {
            "text/plain": [
              "((4885, 108), (4885,))"
            ]
          },
          "execution_count": 59,
          "metadata": {},
          "output_type": "execute_result"
        }
      ],
      "source": [
        "x_base_teste.shape, y_base_teste.shape"
      ]
    },
    {
      "cell_type": "code",
      "execution_count": null,
      "metadata": {
        "colab": {
          "base_uri": "https://localhost:8080/"
        },
        "id": "U7kDI2NfMcFL",
        "outputId": "8a683bfb-5cd1-44ac-b0b2-43860cf65494"
      },
      "outputs": [
        {
          "data": {
            "text/plain": [
              "LogisticRegression(random_state=0)"
            ]
          },
          "execution_count": 60,
          "metadata": {},
          "output_type": "execute_result"
        }
      ],
      "source": [
        "regressao_logistica = LogisticRegression(random_state = 0)\n",
        "regressao_logistica.fit(x_base_treinamento, y_base_treinamento)"
      ]
    },
    {
      "cell_type": "code",
      "execution_count": null,
      "metadata": {
        "id": "f0141yAWNrvl"
      },
      "outputs": [],
      "source": [
        "previsoes = regressao_logistica.predict(x_base_teste)"
      ]
    },
    {
      "cell_type": "code",
      "execution_count": null,
      "metadata": {
        "colab": {
          "base_uri": "https://localhost:8080/"
        },
        "id": "tMmplOQwNz0r",
        "outputId": "462b4279-de66-4d2e-f5c6-0fb6e0928659"
      },
      "outputs": [
        {
          "data": {
            "text/plain": [
              "0.7948822927328557"
            ]
          },
          "execution_count": 64,
          "metadata": {},
          "output_type": "execute_result"
        }
      ],
      "source": [
        "accuracy_score(y_base_teste, previsoes)"
      ]
    },
    {
      "cell_type": "code",
      "execution_count": null,
      "metadata": {
        "colab": {
          "base_uri": "https://localhost:8080/",
          "height": 395
        },
        "id": "S8C_vEQCOY8U",
        "outputId": "57dbc216-f5e8-4002-8c77-3a82d66b143c"
      },
      "outputs": [
        {
          "data": {
            "text/plain": [
              "0.7948822927328557"
            ]
          },
          "execution_count": 65,
          "metadata": {},
          "output_type": "execute_result"
        },
        {
          "data": {
            "image/png": "[encoded data removed]",
            "text/plain": [
              "<Figure size 576x396 with 1 Axes>"
            ]
          },
          "metadata": {},
          "output_type": "display_data"
        }
      ],
      "source": [
        "cm = ConfusionMatrix(regressao_logistica)\n",
        "cm.fit(x_base_treinamento, y_base_treinamento)\n",
        "cm.score(x_base_teste, y_base_teste)"
      ]
    },
    {
      "cell_type": "code",
      "execution_count": null,
      "metadata": {
        "colab": {
          "base_uri": "https://localhost:8080/"
        },
        "id": "uj-KhIoZOxaU",
        "outputId": "6532f4f4-89c8-46e5-cb40-e87a3f2fe1ac"
      },
      "outputs": [
        {
          "name": "stdout",
          "output_type": "stream",
          "text": [
            "              precision    recall  f1-score   support\n",
            "\n",
            "       <=50K       0.80      0.97      0.88      3693\n",
            "        >50K       0.72      0.26      0.38      1192\n",
            "\n",
            "    accuracy                           0.79      4885\n",
            "   macro avg       0.76      0.61      0.63      4885\n",
            "weighted avg       0.78      0.79      0.76      4885\n",
            "\n"
          ]
        }
      ],
      "source": [
        "print(classification_report(y_base_teste, previsoes))"
      ]
    },
    {
      "cell_type": "markdown",
      "metadata": {
        "id": "QYueh6Ut4Czv"
      },
      "source": [
        "# SVM"
      ]
    },
    {
      "cell_type": "code",
      "execution_count": null,
      "metadata": {
        "id": "zO4ZHTxC4FrC"
      },
      "outputs": [],
      "source": [
        "from sklearn.svm import SVC"
      ]
    },
    {
      "cell_type": "code",
      "execution_count": null,
      "metadata": {
        "colab": {
          "base_uri": "https://localhost:8080/"
        },
        "id": "s9dI0ZF74aTz",
        "outputId": "c6f7f5e1-646c-445c-d049-879e59b2c81e"
      },
      "outputs": [
        {
          "data": {
            "text/plain": [
              "((27676, 108), (27676,))"
            ]
          },
          "execution_count": 6,
          "metadata": {},
          "output_type": "execute_result"
        }
      ],
      "source": [
        "x_base_treinamento.shape, y_base_treinamento.shape"
      ]
    },
    {
      "cell_type": "code",
      "execution_count": null,
      "metadata": {
        "colab": {
          "base_uri": "https://localhost:8080/"
        },
        "id": "P_rVKbTH491C",
        "outputId": "4fa31a11-2ec5-4644-b993-dd4738ad6973"
      },
      "outputs": [
        {
          "data": {
            "text/plain": [
              "((4885, 108), (4885,))"
            ]
          },
          "execution_count": 7,
          "metadata": {},
          "output_type": "execute_result"
        }
      ],
      "source": [
        "x_base_teste.shape, y_base_teste.shape"
      ]
    },
    {
      "cell_type": "code",
      "execution_count": null,
      "metadata": {
        "id": "VMyahcyc5BFi"
      },
      "outputs": [],
      "source": [
        "svm_census = SVC(kernel='linear', random_state = 1, C = 2.0)"
      ]
    },
    {
      "cell_type": "code",
      "execution_count": null,
      "metadata": {
        "colab": {
          "base_uri": "https://localhost:8080/"
        },
        "id": "ArGO2_EQ8rvK",
        "outputId": "de3ddbd4-b782-49c1-dd80-e19b5777f509"
      },
      "outputs": [
        {
          "data": {
            "text/plain": [
              "SVC(C=2.0, kernel='linear', random_state=1)"
            ]
          },
          "execution_count": 21,
          "metadata": {},
          "output_type": "execute_result"
        }
      ],
      "source": [
        "svm_census.fit(x_base_treinamento, y_base_treinamento)"
      ]
    },
    {
      "cell_type": "code",
      "execution_count": null,
      "metadata": {
        "id": "s-Yfgtko53Yb"
      },
      "outputs": [],
      "source": [
        "previsoes = svm_census.predict(x_base_teste)"
      ]
    },
    {
      "cell_type": "code",
      "execution_count": null,
      "metadata": {
        "colab": {
          "base_uri": "https://localhost:8080/"
        },
        "id": "FsklV1I6_q8c",
        "outputId": "58a111e6-0604-4815-84ff-17fd3146ac97"
      },
      "outputs": [
        {
          "data": {
            "text/plain": [
              "0.8509723643807574"
            ]
          },
          "execution_count": 23,
          "metadata": {},
          "output_type": "execute_result"
        }
      ],
      "source": [
        "accuracy_score(y_base_teste, previsoes)"
      ]
    },
    {
      "cell_type": "markdown",
      "metadata": {
        "id": "Gx1Cz1wPy0JL"
      },
      "source": [
        "# Redes Neurais"
      ]
    },
    {
      "cell_type": "code",
      "execution_count": null,
      "metadata": {
        "id": "LA0hQFW_y46O"
      },
      "outputs": [],
      "source": [
        "import pickle\n",
        "from sklearn.neural_network import MLPClassifier"
      ]
    },
    {
      "cell_type": "code",
      "execution_count": null,
      "metadata": {
        "colab": {
          "base_uri": "https://localhost:8080/"
        },
        "id": "XwoeIHW617xF",
        "outputId": "50b998ab-5673-43f4-e2b3-4aeef65f3a6a"
      },
      "outputs": [
        {
          "data": {
            "text/plain": [
              "((27676, 108), (27676,))"
            ]
          },
          "execution_count": 9,
          "metadata": {},
          "output_type": "execute_result"
        }
      ],
      "source": [
        "x_base_treinamento.shape, y_base_treinamento.shape"
      ]
    },
    {
      "cell_type": "code",
      "execution_count": null,
      "metadata": {
        "colab": {
          "base_uri": "https://localhost:8080/"
        },
        "id": "E8oLOkIB2CkM",
        "outputId": "85c6be13-08a8-4d4d-e0fb-9beef0ea631d"
      },
      "outputs": [
        {
          "data": {
            "text/plain": [
              "((4885, 108), (4885,))"
            ]
          },
          "execution_count": 10,
          "metadata": {},
          "output_type": "execute_result"
        }
      ],
      "source": [
        "x_base_teste.shape, y_base_teste.shape"
      ]
    },
    {
      "cell_type": "code",
      "execution_count": null,
      "metadata": {
        "colab": {
          "base_uri": "https://localhost:8080/"
        },
        "id": "H-ca4De02GLk",
        "outputId": "d92c3b68-8c6f-4279-c54a-0476758bfb67"
      },
      "outputs": [
        {
          "name": "stdout",
          "output_type": "stream",
          "text": [
            "Iteration 1, loss = 0.38902423\n",
            "Iteration 2, loss = 0.32438258\n",
            "Iteration 3, loss = 0.31385272\n",
            "Iteration 4, loss = 0.30635978\n",
            "Iteration 5, loss = 0.30126909\n",
            "Iteration 6, loss = 0.29728285\n",
            "Iteration 7, loss = 0.29449798\n",
            "Iteration 8, loss = 0.29128938\n",
            "Iteration 9, loss = 0.28824187\n",
            "Iteration 10, loss = 0.28566411\n",
            "Iteration 11, loss = 0.28337457\n",
            "Iteration 12, loss = 0.28090155\n",
            "Iteration 13, loss = 0.28022932\n",
            "Iteration 14, loss = 0.27651144\n",
            "Iteration 15, loss = 0.27535507\n",
            "Iteration 16, loss = 0.27315216\n",
            "Iteration 17, loss = 0.27194370\n",
            "Iteration 18, loss = 0.26942877\n",
            "Iteration 19, loss = 0.26892891\n",
            "Iteration 20, loss = 0.26710481\n",
            "Iteration 21, loss = 0.26550475\n",
            "Iteration 22, loss = 0.26372607\n",
            "Iteration 23, loss = 0.26201985\n",
            "Iteration 24, loss = 0.26076350\n",
            "Iteration 25, loss = 0.25873930\n",
            "Iteration 26, loss = 0.25773624\n",
            "Iteration 27, loss = 0.25597070\n",
            "Iteration 28, loss = 0.25414652\n",
            "Iteration 29, loss = 0.25307845\n",
            "Iteration 30, loss = 0.25111059\n",
            "Iteration 31, loss = 0.24996984\n",
            "Iteration 32, loss = 0.24959983\n",
            "Iteration 33, loss = 0.24729267\n",
            "Iteration 34, loss = 0.24676116\n",
            "Iteration 35, loss = 0.24494172\n",
            "Iteration 36, loss = 0.24397051\n",
            "Iteration 37, loss = 0.24231030\n",
            "Iteration 38, loss = 0.24203322\n",
            "Iteration 39, loss = 0.24087144\n",
            "Iteration 40, loss = 0.23847709\n",
            "Iteration 41, loss = 0.23793308\n",
            "Iteration 42, loss = 0.23581558\n",
            "Iteration 43, loss = 0.23622447\n",
            "Iteration 44, loss = 0.23474347\n",
            "Iteration 45, loss = 0.23315123\n",
            "Iteration 46, loss = 0.23229260\n",
            "Iteration 47, loss = 0.23081514\n",
            "Iteration 48, loss = 0.22993092\n",
            "Iteration 49, loss = 0.22956081\n",
            "Iteration 50, loss = 0.22868391\n",
            "Iteration 51, loss = 0.22672129\n",
            "Iteration 52, loss = 0.22655264\n",
            "Iteration 53, loss = 0.22538606\n",
            "Iteration 54, loss = 0.22489685\n",
            "Iteration 55, loss = 0.22402547\n",
            "Iteration 56, loss = 0.22348471\n",
            "Iteration 57, loss = 0.22241400\n",
            "Iteration 58, loss = 0.22074216\n",
            "Iteration 59, loss = 0.21988260\n",
            "Iteration 60, loss = 0.22003665\n",
            "Iteration 61, loss = 0.21909289\n",
            "Iteration 62, loss = 0.21778944\n",
            "Iteration 63, loss = 0.21709948\n",
            "Iteration 64, loss = 0.21592164\n",
            "Iteration 65, loss = 0.21571719\n",
            "Iteration 66, loss = 0.21417507\n",
            "Iteration 67, loss = 0.21417642\n",
            "Iteration 68, loss = 0.21214521\n",
            "Iteration 69, loss = 0.21276243\n",
            "Iteration 70, loss = 0.21175604\n",
            "Iteration 71, loss = 0.21137129\n",
            "Iteration 72, loss = 0.20971494\n",
            "Iteration 73, loss = 0.21049037\n",
            "Iteration 74, loss = 0.20949764\n",
            "Iteration 75, loss = 0.20863012\n",
            "Iteration 76, loss = 0.20844595\n",
            "Iteration 77, loss = 0.20730983\n",
            "Iteration 78, loss = 0.20729027\n",
            "Iteration 79, loss = 0.20483617\n",
            "Iteration 80, loss = 0.20472133\n",
            "Iteration 81, loss = 0.20539387\n",
            "Iteration 82, loss = 0.20447156\n",
            "Iteration 83, loss = 0.20347647\n",
            "Iteration 84, loss = 0.20344250\n",
            "Iteration 85, loss = 0.20217444\n",
            "Iteration 86, loss = 0.20165822\n",
            "Iteration 87, loss = 0.20112945\n",
            "Iteration 88, loss = 0.20034764\n",
            "Iteration 89, loss = 0.19994656\n",
            "Iteration 90, loss = 0.19882629\n",
            "Iteration 91, loss = 0.19836729\n",
            "Iteration 92, loss = 0.19783898\n",
            "Iteration 93, loss = 0.19689172\n",
            "Iteration 94, loss = 0.19712133\n",
            "Iteration 95, loss = 0.19664153\n",
            "Iteration 96, loss = 0.19660758\n",
            "Iteration 97, loss = 0.19517354\n",
            "Iteration 98, loss = 0.19540882\n",
            "Iteration 99, loss = 0.19533804\n",
            "Iteration 100, loss = 0.19435592\n",
            "Iteration 101, loss = 0.19342845\n",
            "Iteration 102, loss = 0.19309082\n",
            "Iteration 103, loss = 0.19304125\n",
            "Iteration 104, loss = 0.19323540\n",
            "Iteration 105, loss = 0.19156776\n",
            "Iteration 106, loss = 0.19118661\n",
            "Iteration 107, loss = 0.19064888\n",
            "Iteration 108, loss = 0.19047691\n",
            "Iteration 109, loss = 0.18983808\n",
            "Iteration 110, loss = 0.18888809\n",
            "Iteration 111, loss = 0.18991495\n",
            "Iteration 112, loss = 0.18911311\n",
            "Iteration 113, loss = 0.18950885\n",
            "Iteration 114, loss = 0.18747771\n",
            "Iteration 115, loss = 0.18837008\n",
            "Iteration 116, loss = 0.18728844\n",
            "Iteration 117, loss = 0.18863220\n",
            "Iteration 118, loss = 0.18685945\n",
            "Iteration 119, loss = 0.18689415\n",
            "Iteration 120, loss = 0.18481745\n",
            "Iteration 121, loss = 0.18574496\n",
            "Iteration 122, loss = 0.18495941\n",
            "Iteration 123, loss = 0.18439091\n",
            "Iteration 124, loss = 0.18455528\n",
            "Iteration 125, loss = 0.18317155\n",
            "Iteration 126, loss = 0.18324013\n",
            "Iteration 127, loss = 0.18326486\n",
            "Iteration 128, loss = 0.18267138\n",
            "Iteration 129, loss = 0.18371432\n",
            "Iteration 130, loss = 0.18182326\n",
            "Iteration 131, loss = 0.18068218\n",
            "Iteration 132, loss = 0.18317240\n",
            "Iteration 133, loss = 0.18282907\n",
            "Iteration 134, loss = 0.18047444\n",
            "Iteration 135, loss = 0.18005920\n",
            "Iteration 136, loss = 0.18151462\n",
            "Iteration 137, loss = 0.18069064\n",
            "Iteration 138, loss = 0.17846739\n",
            "Iteration 139, loss = 0.18103596\n",
            "Iteration 140, loss = 0.17807268\n",
            "Iteration 141, loss = 0.17738539\n",
            "Iteration 142, loss = 0.17803388\n",
            "Iteration 143, loss = 0.17748113\n",
            "Iteration 144, loss = 0.17705654\n",
            "Iteration 145, loss = 0.17674222\n",
            "Iteration 146, loss = 0.17622464\n",
            "Iteration 147, loss = 0.17649128\n",
            "Iteration 148, loss = 0.17706881\n",
            "Iteration 149, loss = 0.17603264\n",
            "Iteration 150, loss = 0.17716208\n",
            "Iteration 151, loss = 0.17565182\n",
            "Iteration 152, loss = 0.17617178\n",
            "Iteration 153, loss = 0.17699952\n",
            "Iteration 154, loss = 0.17613869\n",
            "Iteration 155, loss = 0.17371961\n",
            "Iteration 156, loss = 0.17470067\n",
            "Iteration 157, loss = 0.17395296\n",
            "Iteration 158, loss = 0.17393869\n",
            "Iteration 159, loss = 0.17290830\n",
            "Iteration 160, loss = 0.17173829\n",
            "Iteration 161, loss = 0.17216642\n",
            "Iteration 162, loss = 0.17270939\n",
            "Iteration 163, loss = 0.17360785\n",
            "Iteration 164, loss = 0.17148226\n",
            "Iteration 165, loss = 0.17252237\n",
            "Iteration 166, loss = 0.17160516\n",
            "Iteration 167, loss = 0.17147699\n",
            "Iteration 168, loss = 0.17030286\n",
            "Iteration 169, loss = 0.17145121\n",
            "Iteration 170, loss = 0.16911410\n",
            "Iteration 171, loss = 0.16957727\n",
            "Iteration 172, loss = 0.16944368\n",
            "Iteration 173, loss = 0.17080043\n",
            "Iteration 174, loss = 0.17058216\n",
            "Iteration 175, loss = 0.17043538\n",
            "Iteration 176, loss = 0.16794133\n",
            "Iteration 177, loss = 0.16853208\n",
            "Iteration 178, loss = 0.16836921\n",
            "Iteration 179, loss = 0.16706862\n",
            "Iteration 180, loss = 0.16761610\n",
            "Iteration 181, loss = 0.16906510\n",
            "Iteration 182, loss = 0.16662287\n",
            "Iteration 183, loss = 0.16713110\n",
            "Iteration 184, loss = 0.16727415\n",
            "Iteration 185, loss = 0.16700768\n",
            "Iteration 186, loss = 0.16669010\n",
            "Iteration 187, loss = 0.16702923\n",
            "Iteration 188, loss = 0.16612786\n",
            "Iteration 189, loss = 0.16595461\n",
            "Iteration 190, loss = 0.16565283\n",
            "Iteration 191, loss = 0.16500863\n",
            "Iteration 192, loss = 0.16539312\n",
            "Iteration 193, loss = 0.16371805\n",
            "Iteration 194, loss = 0.16613979\n",
            "Iteration 195, loss = 0.16383086\n",
            "Iteration 196, loss = 0.16564088\n",
            "Iteration 197, loss = 0.16551690\n",
            "Iteration 198, loss = 0.16501404\n",
            "Iteration 199, loss = 0.16342916\n",
            "Iteration 200, loss = 0.16253603\n",
            "Iteration 201, loss = 0.16277598\n",
            "Iteration 202, loss = 0.16232520\n",
            "Iteration 203, loss = 0.16331128\n",
            "Iteration 204, loss = 0.16216619\n",
            "Iteration 205, loss = 0.16301398\n",
            "Iteration 206, loss = 0.16218902\n",
            "Iteration 207, loss = 0.16072164\n",
            "Iteration 208, loss = 0.16158589\n",
            "Iteration 209, loss = 0.16143535\n",
            "Iteration 210, loss = 0.16142116\n",
            "Iteration 211, loss = 0.16083498\n",
            "Iteration 212, loss = 0.16129168\n",
            "Iteration 213, loss = 0.16123453\n",
            "Iteration 214, loss = 0.16007752\n",
            "Iteration 215, loss = 0.16064220\n",
            "Iteration 216, loss = 0.16055047\n",
            "Iteration 217, loss = 0.16113596\n",
            "Iteration 218, loss = 0.15940168\n",
            "Iteration 219, loss = 0.15804417\n",
            "Iteration 220, loss = 0.15876387\n",
            "Iteration 221, loss = 0.15793189\n",
            "Iteration 222, loss = 0.15791778\n",
            "Iteration 223, loss = 0.15949717\n",
            "Iteration 224, loss = 0.15874009\n",
            "Iteration 225, loss = 0.15928236\n",
            "Iteration 226, loss = 0.15946970\n",
            "Iteration 227, loss = 0.15691081\n",
            "Iteration 228, loss = 0.15786417\n",
            "Iteration 229, loss = 0.15758509\n",
            "Iteration 230, loss = 0.15689737\n",
            "Iteration 231, loss = 0.15902089\n",
            "Iteration 232, loss = 0.15719696\n",
            "Iteration 233, loss = 0.15605497\n",
            "Iteration 234, loss = 0.15601142\n",
            "Iteration 235, loss = 0.15687240\n",
            "Iteration 236, loss = 0.15678112\n",
            "Iteration 237, loss = 0.15711986\n",
            "Iteration 238, loss = 0.15630025\n",
            "Iteration 239, loss = 0.15696564\n",
            "Iteration 240, loss = 0.15543968\n",
            "Iteration 241, loss = 0.15578710\n",
            "Iteration 242, loss = 0.15468112\n",
            "Iteration 243, loss = 0.15643771\n",
            "Iteration 244, loss = 0.15532575\n",
            "Iteration 245, loss = 0.15679936\n",
            "Iteration 246, loss = 0.15533405\n",
            "Iteration 247, loss = 0.15493353\n",
            "Iteration 248, loss = 0.15303494\n",
            "Iteration 249, loss = 0.15609358\n",
            "Iteration 250, loss = 0.15664242\n",
            "Iteration 251, loss = 0.15306417\n",
            "Iteration 252, loss = 0.15347569\n",
            "Iteration 253, loss = 0.15284252\n",
            "Iteration 254, loss = 0.15357801\n",
            "Iteration 255, loss = 0.15273896\n",
            "Iteration 256, loss = 0.15281712\n",
            "Iteration 257, loss = 0.15268302\n",
            "Iteration 258, loss = 0.15475495\n",
            "Iteration 259, loss = 0.15256694\n",
            "Iteration 260, loss = 0.15294119\n",
            "Iteration 261, loss = 0.15041303\n",
            "Iteration 262, loss = 0.15137020\n",
            "Iteration 263, loss = 0.15163793\n",
            "Iteration 264, loss = 0.15320682\n",
            "Iteration 265, loss = 0.15179229\n",
            "Iteration 266, loss = 0.15226969\n",
            "Iteration 267, loss = 0.15282788\n",
            "Iteration 268, loss = 0.15100286\n",
            "Iteration 269, loss = 0.15012711\n",
            "Iteration 270, loss = 0.15070311\n",
            "Iteration 271, loss = 0.15115721\n",
            "Iteration 272, loss = 0.15152837\n",
            "Iteration 273, loss = 0.15159972\n",
            "Iteration 274, loss = 0.15430383\n",
            "Iteration 275, loss = 0.15134762\n",
            "Iteration 276, loss = 0.15070341\n",
            "Iteration 277, loss = 0.15027616\n",
            "Iteration 278, loss = 0.15037646\n",
            "Iteration 279, loss = 0.15156559\n",
            "Iteration 280, loss = 0.14871662\n",
            "Iteration 281, loss = 0.15053137\n",
            "Iteration 282, loss = 0.14966944\n",
            "Iteration 283, loss = 0.15014883\n",
            "Iteration 284, loss = 0.15041699\n",
            "Iteration 285, loss = 0.15132552\n",
            "Iteration 286, loss = 0.14840780\n",
            "Iteration 287, loss = 0.14982882\n",
            "Iteration 288, loss = 0.15112337\n",
            "Iteration 289, loss = 0.14726426\n",
            "Iteration 290, loss = 0.14779289\n",
            "Iteration 291, loss = 0.14912086\n",
            "Iteration 292, loss = 0.15083216\n",
            "Iteration 293, loss = 0.14818588\n",
            "Iteration 294, loss = 0.14996332\n",
            "Iteration 295, loss = 0.14872510\n",
            "Iteration 296, loss = 0.14818883\n",
            "Iteration 297, loss = 0.14757642\n",
            "Iteration 298, loss = 0.14627811\n",
            "Iteration 299, loss = 0.14769703\n",
            "Iteration 300, loss = 0.14728814\n",
            "Iteration 301, loss = 0.14715476\n",
            "Iteration 302, loss = 0.14592028\n",
            "Iteration 303, loss = 0.14706068\n",
            "Iteration 304, loss = 0.14720069\n",
            "Iteration 305, loss = 0.14749325\n",
            "Iteration 306, loss = 0.14604659\n",
            "Iteration 307, loss = 0.14566383\n",
            "Iteration 308, loss = 0.14706609\n",
            "Iteration 309, loss = 0.14544875\n",
            "Iteration 310, loss = 0.14502927\n",
            "Iteration 311, loss = 0.14547336\n",
            "Iteration 312, loss = 0.14624243\n",
            "Iteration 313, loss = 0.14575680\n",
            "Iteration 314, loss = 0.14516092\n",
            "Iteration 315, loss = 0.14544663\n",
            "Iteration 316, loss = 0.14723503\n",
            "Iteration 317, loss = 0.14502099\n",
            "Iteration 318, loss = 0.14437937\n",
            "Iteration 319, loss = 0.14547765\n",
            "Iteration 320, loss = 0.14526359\n",
            "Iteration 321, loss = 0.14428409\n",
            "Iteration 322, loss = 0.14416594\n",
            "Iteration 323, loss = 0.14421072\n",
            "Iteration 324, loss = 0.14538408\n",
            "Iteration 325, loss = 0.14478230\n",
            "Iteration 326, loss = 0.14387140\n",
            "Iteration 327, loss = 0.14498505\n",
            "Iteration 328, loss = 0.14245800\n",
            "Iteration 329, loss = 0.14864127\n",
            "Iteration 330, loss = 0.14631226\n",
            "Iteration 331, loss = 0.14409562\n",
            "Iteration 332, loss = 0.14252908\n",
            "Iteration 333, loss = 0.14296814\n",
            "Iteration 334, loss = 0.14181752\n",
            "Iteration 335, loss = 0.14296732\n",
            "Iteration 336, loss = 0.14426817\n",
            "Iteration 337, loss = 0.14252384\n",
            "Iteration 338, loss = 0.14327446\n",
            "Iteration 339, loss = 0.14193537\n",
            "Iteration 340, loss = 0.14332794\n",
            "Iteration 341, loss = 0.14274748\n",
            "Iteration 342, loss = 0.14356370\n",
            "Iteration 343, loss = 0.14171844\n",
            "Iteration 344, loss = 0.14066113\n",
            "Iteration 345, loss = 0.14171057\n",
            "Iteration 346, loss = 0.14294677\n",
            "Iteration 347, loss = 0.14198438\n",
            "Iteration 348, loss = 0.14201237\n",
            "Iteration 349, loss = 0.14150872\n",
            "Iteration 350, loss = 0.14203844\n",
            "Iteration 351, loss = 0.14267245\n",
            "Iteration 352, loss = 0.14301259\n",
            "Iteration 353, loss = 0.14350470\n",
            "Iteration 354, loss = 0.13969022\n",
            "Iteration 355, loss = 0.14076361\n",
            "Iteration 356, loss = 0.13956451\n",
            "Iteration 357, loss = 0.14173661\n",
            "Iteration 358, loss = 0.14008773\n",
            "Iteration 359, loss = 0.14356925\n",
            "Iteration 360, loss = 0.14040529\n",
            "Iteration 361, loss = 0.13987207\n",
            "Iteration 362, loss = 0.14060093\n",
            "Iteration 363, loss = 0.13977152\n",
            "Iteration 364, loss = 0.13988714\n",
            "Iteration 365, loss = 0.14056554\n",
            "Iteration 366, loss = 0.14028193\n",
            "Iteration 367, loss = 0.14126766\n",
            "Training loss did not improve more than tol=0.000010 for 10 consecutive epochs. Stopping.\n"
          ]
        },
        {
          "data": {
            "text/plain": [
              "MLPClassifier(hidden_layer_sizes=(55, 55), max_iter=1000, tol=1e-05,\n",
              "              verbose=True)"
            ]
          },
          "execution_count": 32,
          "metadata": {},
          "output_type": "execute_result"
        }
      ],
      "source": [
        "rede_neural = MLPClassifier(max_iter=1000, verbose=True, tol=0.000010,\n",
        "                            solver='adam', activation='relu',\n",
        "                            hidden_layer_sizes=(55,55))\n",
        "\n",
        "rede_neural.fit(x_base_treinamento, y_base_treinamento)"
      ]
    },
    {
      "cell_type": "code",
      "execution_count": null,
      "metadata": {
        "colab": {
          "base_uri": "https://localhost:8080/"
        },
        "id": "rprHPVkp7HpV",
        "outputId": "b52cf271-93f7-4828-9a53-e8a9975e4c08"
      },
      "outputs": [
        {
          "data": {
            "text/plain": [
              "array([' <=50K', ' <=50K', ' <=50K', ..., ' <=50K', ' <=50K', ' >50K'],\n",
              "      dtype='<U6')"
            ]
          },
          "execution_count": 33,
          "metadata": {},
          "output_type": "execute_result"
        }
      ],
      "source": [
        "previsoes = rede_neural.predict(x_base_teste)\n",
        "previsoes"
      ]
    },
    {
      "cell_type": "code",
      "execution_count": null,
      "metadata": {
        "colab": {
          "base_uri": "https://localhost:8080/"
        },
        "id": "eZk91NS_7OZV",
        "outputId": "8295027e-126c-4940-b3cc-c31d4f0f30e7"
      },
      "outputs": [
        {
          "data": {
            "text/plain": [
              "0.8102354145342886"
            ]
          },
          "execution_count": 34,
          "metadata": {},
          "output_type": "execute_result"
        }
      ],
      "source": [
        "accuracy_score(y_base_teste, previsoes)"
      ]
    },
    {
      "cell_type": "code",
      "execution_count": null,
      "metadata": {
        "colab": {
          "base_uri": "https://localhost:8080/",
          "height": 395
        },
        "id": "9DpvhbV87cGv",
        "outputId": "9e9ccda0-9f85-4b91-96ef-cf102d5b9463"
      },
      "outputs": [
        {
          "data": {
            "text/plain": [
              "0.8102354145342886"
            ]
          },
          "execution_count": 35,
          "metadata": {},
          "output_type": "execute_result"
        },
        {
          "data": {
            "image/png": "[encoded data removed]",
            "text/plain": [
              "<Figure size 576x396 with 1 Axes>"
            ]
          },
          "metadata": {},
          "output_type": "display_data"
        }
      ],
      "source": [
        "cm = ConfusionMatrix(rede_neural)\n",
        "cm.fit(x_base_treinamento, y_base_treinamento)\n",
        "cm.score(x_base_teste, y_base_teste)"
      ]
    },
    {
      "cell_type": "code",
      "execution_count": null,
      "metadata": {
        "colab": {
          "base_uri": "https://localhost:8080/"
        },
        "id": "v9K3GFNt8jK3",
        "outputId": "86291ac4-c8f6-4508-fe6f-51f69173aa95"
      },
      "outputs": [
        {
          "name": "stdout",
          "output_type": "stream",
          "text": [
            "              precision    recall  f1-score   support\n",
            "\n",
            "       <=50K       0.87      0.88      0.88      3693\n",
            "        >50K       0.62      0.59      0.60      1192\n",
            "\n",
            "    accuracy                           0.81      4885\n",
            "   macro avg       0.74      0.74      0.74      4885\n",
            "weighted avg       0.81      0.81      0.81      4885\n",
            "\n"
          ]
        }
      ],
      "source": [
        "print(classification_report(y_base_teste, previsoes))"
      ]
    },
    {
      "cell_type": "markdown",
      "metadata": {
        "id": "w3lli-SjQZGR"
      },
      "source": [
        "# Ajuste de melhores parâmetros para os algoritmos"
      ]
    },
    {
      "cell_type": "code",
      "execution_count": null,
      "metadata": {
        "id": "pPmC_xS_QgHT"
      },
      "outputs": [],
      "source": [
        "from sklearn.model_selection import GridSearchCV"
      ]
    },
    {
      "cell_type": "code",
      "execution_count": null,
      "metadata": {
        "colab": {
          "base_uri": "https://localhost:8080/"
        },
        "id": "sQXBy1VjSJa5",
        "outputId": "e143ea54-e12c-4c0d-c3d5-75306ab0e425"
      },
      "outputs": [
        {
          "data": {
            "text/plain": [
              "((1500, 3), (1500,))"
            ]
          },
          "execution_count": 6,
          "metadata": {},
          "output_type": "execute_result"
        }
      ],
      "source": [
        "x_base_treinamento.shape, y_base_treinamento.shape"
      ]
    },
    {
      "cell_type": "code",
      "execution_count": null,
      "metadata": {
        "colab": {
          "base_uri": "https://localhost:8080/"
        },
        "id": "OpvEtj8-SQ-z",
        "outputId": "86928863-3109-4f85-dfbf-d68e9e5473da"
      },
      "outputs": [
        {
          "data": {
            "text/plain": [
              "((500, 3), (500,))"
            ]
          },
          "execution_count": 7,
          "metadata": {},
          "output_type": "execute_result"
        }
      ],
      "source": [
        "x_base_teste.shape, y_base_teste.shape"
      ]
    },
    {
      "cell_type": "code",
      "execution_count": null,
      "metadata": {
        "id": "sg_qKCnTSU0j"
      },
      "outputs": [],
      "source": [
        "x_base = np.concatenate((x_base_treinamento, x_base_teste), axis=0)"
      ]
    },
    {
      "cell_type": "code",
      "execution_count": null,
      "metadata": {
        "id": "nvaaptm1S0Ij"
      },
      "outputs": [],
      "source": [
        "y_base = np.concatenate((y_base_treinamento, y_base_teste), axis=0)"
      ]
    },
    {
      "cell_type": "code",
      "execution_count": null,
      "metadata": {
        "colab": {
          "base_uri": "https://localhost:8080/"
        },
        "id": "UwACWHIYS6C7",
        "outputId": "82864421-358b-48ca-e4a3-ce1849aa84da"
      },
      "outputs": [
        {
          "data": {
            "text/plain": [
              "((2000, 3), (2000,))"
            ]
          },
          "execution_count": 10,
          "metadata": {},
          "output_type": "execute_result"
        }
      ],
      "source": [
        "x_base.shape, y_base.shape"
      ]
    },
    {
      "cell_type": "code",
      "execution_count": null,
      "metadata": {
        "id": "9EikD09ATTR9"
      },
      "outputs": [],
      "source": [
        "# Para Árvore de decisão"
      ]
    },
    {
      "cell_type": "code",
      "execution_count": null,
      "metadata": {
        "id": "t0XJM54mT33V"
      },
      "outputs": [],
      "source": [
        "parametros = {'criterion': ['gini','entropy'],\n",
        "              'splitter':['best','random'],\n",
        "              'min_samples_split':[2, 5, 10, 20, 30],\n",
        "              'min_samples_leaf': [1, 5, 7, 10, 15]}"
      ]
    },
    {
      "cell_type": "code",
      "execution_count": null,
      "metadata": {
        "colab": {
          "base_uri": "https://localhost:8080/"
        },
        "id": "WJjxUsLSUXFE",
        "outputId": "fcea09b7-f132-4186-bf3b-0d883663cf2d"
      },
      "outputs": [
        {
          "name": "stdout",
          "output_type": "stream",
          "text": [
            "{'criterion': 'entropy', 'min_samples_leaf': 1, 'min_samples_split': 5, 'splitter': 'best'}\n",
            "0.983\n"
          ]
        }
      ],
      "source": [
        "grid_search = GridSearchCV(estimator = DecisionTreeClassifier(), param_grid=parametros)\n",
        "grid_search.fit(x_base, y_base)\n",
        "melhores_parametros = grid_search.best_params_\n",
        "melhor_resultado = grid_search.best_score_\n",
        "print(melhores_parametros)\n",
        "print(melhor_resultado)"
      ]
    },
    {
      "cell_type": "code",
      "execution_count": null,
      "metadata": {
        "id": "qRgfiuBmVu7q"
      },
      "outputs": [],
      "source": [
        "#Para Random Forest"
      ]
    },
    {
      "cell_type": "code",
      "execution_count": null,
      "metadata": {
        "id": "w5BvcSNOVyCn"
      },
      "outputs": [],
      "source": [
        "parametros = {'n_estimators': [10, 50, 100],\n",
        "              'criterion': ['gini','entropy'],\n",
        "              'min_samples_split': [2, 5, 10],\n",
        "              'min_samples_leaf': [1, 5, 10]}"
      ]
    },
    {
      "cell_type": "code",
      "execution_count": null,
      "metadata": {
        "colab": {
          "base_uri": "https://localhost:8080/"
        },
        "id": "ENNkq4AoXCW1",
        "outputId": "b6dc3834-6c07-4af2-cfce-48006b5a7784"
      },
      "outputs": [
        {
          "name": "stdout",
          "output_type": "stream",
          "text": [
            "{'criterion': 'entropy', 'min_samples_leaf': 1, 'min_samples_split': 2, 'n_estimators': 100}\n",
            "0.9870000000000001\n"
          ]
        }
      ],
      "source": [
        "grid_search = GridSearchCV(estimator=RandomForestClassifier(), param_grid=parametros)\n",
        "grid_search.fit(x_base, y_base)\n",
        "melhores_parametros = grid_search.best_params_\n",
        "melhor_resultado = grid_search.best_score_\n",
        "print(melhores_parametros)\n",
        "print(melhor_resultado)"
      ]
    },
    {
      "cell_type": "code",
      "execution_count": null,
      "metadata": {
        "id": "EGtqk2gaX9Zy"
      },
      "outputs": [],
      "source": [
        "#Para o KNN"
      ]
    },
    {
      "cell_type": "code",
      "execution_count": null,
      "metadata": {
        "id": "C63u-yOhX_Jy"
      },
      "outputs": [],
      "source": [
        "parametros = {'n_neighbors': [2, 5, 10, 15, 20],\n",
        "              'p': [1,2]}"
      ]
    },
    {
      "cell_type": "code",
      "execution_count": null,
      "metadata": {
        "colab": {
          "base_uri": "https://localhost:8080/"
        },
        "id": "xn2edQ4KYDTi",
        "outputId": "0316fdaf-ad01-4e17-e3e5-7bea1bb33612"
      },
      "outputs": [
        {
          "name": "stdout",
          "output_type": "stream",
          "text": [
            "{'n_neighbors': 15, 'p': 1}\n",
            "0.984\n"
          ]
        }
      ],
      "source": [
        "grid_search = GridSearchCV(estimator=KNeighborsClassifier(), param_grid=parametros)\n",
        "grid_search.fit(x_base, y_base)\n",
        "melhores_parametros = grid_search.best_params_\n",
        "melhor_resultado = grid_search.best_score_\n",
        "print(melhores_parametros)\n",
        "print(melhor_resultado)"
      ]
    },
    {
      "cell_type": "code",
      "execution_count": null,
      "metadata": {
        "id": "vWD-2l_zZlts"
      },
      "outputs": [],
      "source": [
        "#Para Regressão Logística"
      ]
    },
    {
      "cell_type": "code",
      "execution_count": null,
      "metadata": {
        "id": "bIdBMHpeZpGj"
      },
      "outputs": [],
      "source": [
        "parametros = {'tol': [000.1, 0000.1, 00000.1],\n",
        "              'C': [1.0, 1.5, 2.0],\n",
        "              'solver': ['lbfgs', 'sag', 'saga']}"
      ]
    },
    {
      "cell_type": "code",
      "execution_count": null,
      "metadata": {
        "colab": {
          "base_uri": "https://localhost:8080/"
        },
        "id": "S7scJg5oZq0s",
        "outputId": "6582290e-16d5-4055-e0aa-04e26151a48b"
      },
      "outputs": [
        {
          "name": "stdout",
          "output_type": "stream",
          "text": [
            "{'C': 2.0, 'solver': 'saga', 'tol': 0.1}\n",
            "0.9490000000000001\n"
          ]
        }
      ],
      "source": [
        "grid_search = GridSearchCV(estimator=LogisticRegression(), param_grid=parametros)\n",
        "grid_search.fit(x_base, y_base)\n",
        "melhores_parametros = grid_search.best_params_\n",
        "melhor_resultado = grid_search.best_score_\n",
        "print(melhores_parametros)\n",
        "print(melhor_resultado)"
      ]
    },
    {
      "cell_type": "code",
      "execution_count": null,
      "metadata": {
        "id": "ZWHUXaS9bBIT"
      },
      "outputs": [],
      "source": [
        "#Para o SVM"
      ]
    },
    {
      "cell_type": "code",
      "execution_count": null,
      "metadata": {
        "id": "ewTaowUpbELm"
      },
      "outputs": [],
      "source": [
        "parametros = {'tol': [000.1, 0000.1, 00000.1],\n",
        "              'C': [1.0, 1.5, 2.0],\n",
        "              'kernel': ['rbf', 'linear', 'poly', 'sigmoid']}"
      ]
    },
    {
      "cell_type": "code",
      "execution_count": null,
      "metadata": {
        "colab": {
          "base_uri": "https://localhost:8080/"
        },
        "id": "taS95ZiQbGCF",
        "outputId": "18a94871-1520-4a1c-b07c-d5b7918341b9"
      },
      "outputs": [
        {
          "name": "stdout",
          "output_type": "stream",
          "text": [
            "{'C': 2.0, 'kernel': 'rbf', 'tol': 0.1}\n",
            "0.983\n"
          ]
        }
      ],
      "source": [
        "grid_search = GridSearchCV(estimator=SVC(), param_grid=parametros)\n",
        "grid_search.fit(x_base, y_base)\n",
        "melhores_parametros = grid_search.best_params_\n",
        "melhor_resultado = grid_search.best_score_\n",
        "print(melhores_parametros)\n",
        "print(melhor_resultado)"
      ]
    },
    {
      "cell_type": "code",
      "execution_count": null,
      "metadata": {
        "id": "7OVSoCs6bl5t"
      },
      "outputs": [],
      "source": [
        "#Para Redes Neurais"
      ]
    },
    {
      "cell_type": "code",
      "execution_count": null,
      "metadata": {
        "id": "0akkt1D2boke"
      },
      "outputs": [],
      "source": [
        "parametros = {'activation': ['relu', 'logistic', 'tahn'],\n",
        "              'solver': ['adam', 'sgd'],\n",
        "              'batch_size': [10, 56]}"
      ]
    },
    {
      "cell_type": "code",
      "execution_count": null,
      "metadata": {
        "id": "YetxQUbjbs9A"
      },
      "outputs": [],
      "source": [
        "grid_search = GridSearchCV(estimator=MLPClassifier(), param_grid=parametros)\n",
        "grid_search.fit(x_base, y_base)\n",
        "melhores_parametros = grid_search.best_params_\n",
        "melhor_resultado = grid_search.best_score_"
      ]
    },
    {
      "cell_type": "code",
      "execution_count": null,
      "metadata": {
        "colab": {
          "base_uri": "https://localhost:8080/"
        },
        "id": "6m6_qioog7yg",
        "outputId": "7b26cfad-6f44-4cf3-859e-0e34985e7518"
      },
      "outputs": [
        {
          "name": "stdout",
          "output_type": "stream",
          "text": [
            "{'activation': 'relu', 'batch_size': 10, 'solver': 'adam'}\n",
            "0.9970000000000001\n"
          ]
        }
      ],
      "source": [
        "print(melhores_parametros)\n",
        "print(melhor_resultado)"
      ]
    },
    {
      "cell_type": "markdown",
      "metadata": {
        "id": "p3BeptEVdCih"
      },
      "source": [
        "# Validação Cruzada"
      ]
    },
    {
      "cell_type": "code",
      "execution_count": null,
      "metadata": {
        "id": "1tOIa66VdFon"
      },
      "outputs": [],
      "source": [
        "from sklearn.model_selection import cross_val_score, KFold"
      ]
    },
    {
      "cell_type": "code",
      "execution_count": null,
      "metadata": {
        "id": "-nKTJtTSdQ5-"
      },
      "outputs": [],
      "source": [
        "resultados_arvore = []\n",
        "resultados_random_forest = []\n",
        "resultados_knn = []\n",
        "resultados_logistica = []\n",
        "resultados_svm = []\n",
        "resultados_rede_neural = []\n",
        "\n",
        "for i in range(30):\n",
        "  print(i)\n",
        "  kfold = KFold(n_splits=10, shuffle=True, random_state=i)\n",
        "\n",
        "  arvore = DecisionTreeClassifier(criterion='entropy', min_samples_leaf=1, min_samples_split=5, splitter='best')\n",
        "  scores = cross_val_score(arvore, x_base, y_base, cv = kfold)\n",
        "  #print(scores)\n",
        "  #print(scores.mean())\n",
        "  resultados_arvore.append(scores.mean())\n",
        "\n",
        "  random_forest = RandomForestClassifier(criterion = 'entropy', min_samples_leaf = 1, min_samples_split=5, n_estimators = 10)\n",
        "  scores = cross_val_score(random_forest, x_base, y_base, cv = kfold)\n",
        "  resultados_random_forest.append(scores.mean())\n",
        "\n",
        "  knn = KNeighborsClassifier()\n",
        "  scores = cross_val_score(knn, x_base, y_base, cv = kfold)\n",
        "  resultados_knn.append(scores.mean())\n",
        "\n",
        "  logistica = LogisticRegression(C = 1.0, solver = 'lbfgs', tol = 0.0001)\n",
        "  scores = cross_val_score(logistica, x_base, y_base, cv = kfold)\n",
        "  resultados_logistica.append(scores.mean())\n",
        "\n",
        "  svm = SVC(kernel = 'rbf', C = 2.0)\n",
        "  scores = cross_val_score(svm, x_base, y_base, cv = kfold)\n",
        "  resultados_svm.append(scores.mean())\n",
        "\n",
        "  rede_neural = MLPClassifier(activation = 'relu', batch_size = 56, solver = 'adam')\n",
        "  scores = cross_val_score(rede_neural, x_base, y_base, cv = kfold)\n",
        "  resultados_rede_neural.append(scores.mean())\n",
        "\n"
      ]
    },
    {
      "cell_type": "code",
      "execution_count": null,
      "metadata": {
        "colab": {
          "base_uri": "https://localhost:8080/"
        },
        "id": "UCNMpR_wir5S",
        "outputId": "bd092eb9-e62d-4b2f-aa74-26fbb4e9c81c"
      },
      "outputs": [
        {
          "name": "stdout",
          "output_type": "stream",
          "text": [
            "[0.9864999999999998, 0.985, 0.9905000000000002, 0.9879999999999999, 0.9879999999999999, 0.9890000000000001, 0.9884999999999999, 0.9875, 0.9855, 0.9869999999999999, 0.9860000000000001, 0.9894999999999999, 0.9889999999999999, 0.9864999999999998, 0.984, 0.9859999999999998, 0.9855, 0.9904999999999999, 0.9875, 0.9869999999999999, 0.985, 0.9865, 0.9884999999999999, 0.9869999999999999, 0.9870000000000001, 0.9884999999999999, 0.9879999999999999, 0.9855, 0.986, 0.9880000000000001]\n"
          ]
        }
      ],
      "source": [
        "print(resultados_arvore)"
      ]
    },
    {
      "cell_type": "code",
      "execution_count": null,
      "metadata": {
        "colab": {
          "base_uri": "https://localhost:8080/",
          "height": 989
        },
        "id": "96-JtMr1ftld",
        "outputId": "72bfd0c5-ea63-40a7-8dc8-9198d97121e8"
      },
      "outputs": [
        {
          "data": {
            "text/html": [
              "\n",
              "  <div id=\"df-e0a9390f-2597-4337-9d22-2af270522e08\">\n",
              "    <div class=\"colab-df-container\">\n",
              "      <div>\n",
              "<style scoped>\n",
              "    .dataframe tbody tr th:only-of-type {\n",
              "        vertical-align: middle;\n",
              "    }\n",
              "\n",
              "    .dataframe tbody tr th {\n",
              "        vertical-align: top;\n",
              "    }\n",
              "\n",
              "    .dataframe thead th {\n",
              "        text-align: right;\n",
              "    }\n",
              "</style>\n",
              "<table border=\"1\" class=\"dataframe\">\n",
              "  <thead>\n",
              "    <tr style=\"text-align: right;\">\n",
              "      <th></th>\n",
              "      <th>Arvore</th>\n",
              "      <th>Random Forest</th>\n",
              "      <th>KNN</th>\n",
              "      <th>R.Logistica</th>\n",
              "      <th>SVM</th>\n",
              "      <th>Rede Neural</th>\n",
              "    </tr>\n",
              "  </thead>\n",
              "  <tbody>\n",
              "    <tr>\n",
              "      <th>0</th>\n",
              "      <td>0.9865</td>\n",
              "      <td>0.9850</td>\n",
              "      <td>0.9815</td>\n",
              "      <td>0.9475</td>\n",
              "      <td>0.9845</td>\n",
              "      <td>0.9965</td>\n",
              "    </tr>\n",
              "    <tr>\n",
              "      <th>1</th>\n",
              "      <td>0.9850</td>\n",
              "      <td>0.9815</td>\n",
              "      <td>0.9800</td>\n",
              "      <td>0.9465</td>\n",
              "      <td>0.9840</td>\n",
              "      <td>0.9975</td>\n",
              "    </tr>\n",
              "    <tr>\n",
              "      <th>2</th>\n",
              "      <td>0.9905</td>\n",
              "      <td>0.9830</td>\n",
              "      <td>0.9795</td>\n",
              "      <td>0.9470</td>\n",
              "      <td>0.9865</td>\n",
              "      <td>0.9970</td>\n",
              "    </tr>\n",
              "    <tr>\n",
              "      <th>3</th>\n",
              "      <td>0.9880</td>\n",
              "      <td>0.9805</td>\n",
              "      <td>0.9780</td>\n",
              "      <td>0.9460</td>\n",
              "      <td>0.9850</td>\n",
              "      <td>0.9970</td>\n",
              "    </tr>\n",
              "    <tr>\n",
              "      <th>4</th>\n",
              "      <td>0.9880</td>\n",
              "      <td>0.9810</td>\n",
              "      <td>0.9820</td>\n",
              "      <td>0.9465</td>\n",
              "      <td>0.9850</td>\n",
              "      <td>0.9970</td>\n",
              "    </tr>\n",
              "    <tr>\n",
              "      <th>5</th>\n",
              "      <td>0.9890</td>\n",
              "      <td>0.9840</td>\n",
              "      <td>0.9780</td>\n",
              "      <td>0.9465</td>\n",
              "      <td>0.9845</td>\n",
              "      <td>0.9975</td>\n",
              "    </tr>\n",
              "    <tr>\n",
              "      <th>6</th>\n",
              "      <td>0.9885</td>\n",
              "      <td>0.9845</td>\n",
              "      <td>0.9805</td>\n",
              "      <td>0.9470</td>\n",
              "      <td>0.9860</td>\n",
              "      <td>0.9975</td>\n",
              "    </tr>\n",
              "    <tr>\n",
              "      <th>7</th>\n",
              "      <td>0.9875</td>\n",
              "      <td>0.9850</td>\n",
              "      <td>0.9800</td>\n",
              "      <td>0.9480</td>\n",
              "      <td>0.9850</td>\n",
              "      <td>0.9970</td>\n",
              "    </tr>\n",
              "    <tr>\n",
              "      <th>8</th>\n",
              "      <td>0.9855</td>\n",
              "      <td>0.9835</td>\n",
              "      <td>0.9795</td>\n",
              "      <td>0.9465</td>\n",
              "      <td>0.9840</td>\n",
              "      <td>0.9955</td>\n",
              "    </tr>\n",
              "    <tr>\n",
              "      <th>9</th>\n",
              "      <td>0.9870</td>\n",
              "      <td>0.9830</td>\n",
              "      <td>0.9820</td>\n",
              "      <td>0.9465</td>\n",
              "      <td>0.9845</td>\n",
              "      <td>0.9975</td>\n",
              "    </tr>\n",
              "    <tr>\n",
              "      <th>10</th>\n",
              "      <td>0.9860</td>\n",
              "      <td>0.9865</td>\n",
              "      <td>0.9795</td>\n",
              "      <td>0.9475</td>\n",
              "      <td>0.9840</td>\n",
              "      <td>0.9965</td>\n",
              "    </tr>\n",
              "    <tr>\n",
              "      <th>11</th>\n",
              "      <td>0.9895</td>\n",
              "      <td>0.9850</td>\n",
              "      <td>0.9825</td>\n",
              "      <td>0.9480</td>\n",
              "      <td>0.9845</td>\n",
              "      <td>0.9970</td>\n",
              "    </tr>\n",
              "    <tr>\n",
              "      <th>12</th>\n",
              "      <td>0.9890</td>\n",
              "      <td>0.9840</td>\n",
              "      <td>0.9825</td>\n",
              "      <td>0.9475</td>\n",
              "      <td>0.9855</td>\n",
              "      <td>0.9965</td>\n",
              "    </tr>\n",
              "    <tr>\n",
              "      <th>13</th>\n",
              "      <td>0.9865</td>\n",
              "      <td>0.9800</td>\n",
              "      <td>0.9780</td>\n",
              "      <td>0.9475</td>\n",
              "      <td>0.9855</td>\n",
              "      <td>0.9965</td>\n",
              "    </tr>\n",
              "    <tr>\n",
              "      <th>14</th>\n",
              "      <td>0.9840</td>\n",
              "      <td>0.9860</td>\n",
              "      <td>0.9810</td>\n",
              "      <td>0.9485</td>\n",
              "      <td>0.9830</td>\n",
              "      <td>0.9965</td>\n",
              "    </tr>\n",
              "    <tr>\n",
              "      <th>15</th>\n",
              "      <td>0.9860</td>\n",
              "      <td>0.9810</td>\n",
              "      <td>0.9790</td>\n",
              "      <td>0.9475</td>\n",
              "      <td>0.9865</td>\n",
              "      <td>0.9980</td>\n",
              "    </tr>\n",
              "    <tr>\n",
              "      <th>16</th>\n",
              "      <td>0.9855</td>\n",
              "      <td>0.9795</td>\n",
              "      <td>0.9810</td>\n",
              "      <td>0.9460</td>\n",
              "      <td>0.9860</td>\n",
              "      <td>0.9965</td>\n",
              "    </tr>\n",
              "    <tr>\n",
              "      <th>17</th>\n",
              "      <td>0.9905</td>\n",
              "      <td>0.9855</td>\n",
              "      <td>0.9800</td>\n",
              "      <td>0.9470</td>\n",
              "      <td>0.9865</td>\n",
              "      <td>0.9970</td>\n",
              "    </tr>\n",
              "    <tr>\n",
              "      <th>18</th>\n",
              "      <td>0.9875</td>\n",
              "      <td>0.9855</td>\n",
              "      <td>0.9805</td>\n",
              "      <td>0.9465</td>\n",
              "      <td>0.9850</td>\n",
              "      <td>0.9975</td>\n",
              "    </tr>\n",
              "    <tr>\n",
              "      <th>19</th>\n",
              "      <td>0.9870</td>\n",
              "      <td>0.9840</td>\n",
              "      <td>0.9795</td>\n",
              "      <td>0.9465</td>\n",
              "      <td>0.9845</td>\n",
              "      <td>0.9970</td>\n",
              "    </tr>\n",
              "    <tr>\n",
              "      <th>20</th>\n",
              "      <td>0.9850</td>\n",
              "      <td>0.9850</td>\n",
              "      <td>0.9820</td>\n",
              "      <td>0.9465</td>\n",
              "      <td>0.9840</td>\n",
              "      <td>0.9975</td>\n",
              "    </tr>\n",
              "    <tr>\n",
              "      <th>21</th>\n",
              "      <td>0.9865</td>\n",
              "      <td>0.9795</td>\n",
              "      <td>0.9825</td>\n",
              "      <td>0.9470</td>\n",
              "      <td>0.9850</td>\n",
              "      <td>0.9975</td>\n",
              "    </tr>\n",
              "    <tr>\n",
              "      <th>22</th>\n",
              "      <td>0.9885</td>\n",
              "      <td>0.9845</td>\n",
              "      <td>0.9780</td>\n",
              "      <td>0.9455</td>\n",
              "      <td>0.9865</td>\n",
              "      <td>0.9980</td>\n",
              "    </tr>\n",
              "    <tr>\n",
              "      <th>23</th>\n",
              "      <td>0.9870</td>\n",
              "      <td>0.9810</td>\n",
              "      <td>0.9810</td>\n",
              "      <td>0.9465</td>\n",
              "      <td>0.9875</td>\n",
              "      <td>0.9975</td>\n",
              "    </tr>\n",
              "    <tr>\n",
              "      <th>24</th>\n",
              "      <td>0.9870</td>\n",
              "      <td>0.9870</td>\n",
              "      <td>0.9795</td>\n",
              "      <td>0.9470</td>\n",
              "      <td>0.9870</td>\n",
              "      <td>0.9975</td>\n",
              "    </tr>\n",
              "    <tr>\n",
              "      <th>25</th>\n",
              "      <td>0.9885</td>\n",
              "      <td>0.9820</td>\n",
              "      <td>0.9790</td>\n",
              "      <td>0.9470</td>\n",
              "      <td>0.9820</td>\n",
              "      <td>0.9970</td>\n",
              "    </tr>\n",
              "    <tr>\n",
              "      <th>26</th>\n",
              "      <td>0.9880</td>\n",
              "      <td>0.9850</td>\n",
              "      <td>0.9770</td>\n",
              "      <td>0.9475</td>\n",
              "      <td>0.9840</td>\n",
              "      <td>0.9975</td>\n",
              "    </tr>\n",
              "    <tr>\n",
              "      <th>27</th>\n",
              "      <td>0.9855</td>\n",
              "      <td>0.9815</td>\n",
              "      <td>0.9785</td>\n",
              "      <td>0.9465</td>\n",
              "      <td>0.9865</td>\n",
              "      <td>0.9960</td>\n",
              "    </tr>\n",
              "    <tr>\n",
              "      <th>28</th>\n",
              "      <td>0.9860</td>\n",
              "      <td>0.9825</td>\n",
              "      <td>0.9790</td>\n",
              "      <td>0.9480</td>\n",
              "      <td>0.9835</td>\n",
              "      <td>0.9975</td>\n",
              "    </tr>\n",
              "    <tr>\n",
              "      <th>29</th>\n",
              "      <td>0.9880</td>\n",
              "      <td>0.9855</td>\n",
              "      <td>0.9805</td>\n",
              "      <td>0.9465</td>\n",
              "      <td>0.9865</td>\n",
              "      <td>0.9970</td>\n",
              "    </tr>\n",
              "  </tbody>\n",
              "</table>\n",
              "</div>\n",
              "      <button class=\"colab-df-convert\" onclick=\"convertToInteractive('df-e0a9390f-2597-4337-9d22-2af270522e08')\"\n",
              "              title=\"Convert this dataframe to an interactive table.\"\n",
              "              style=\"display:none;\">\n",
              "        \n",
              "  <svg xmlns=\"http://www.w3.org/2000/svg\" height=\"24px\"viewBox=\"0 0 24 24\"\n",
              "       width=\"24px\">\n",
              "    <path d=\"M0 0h24v24H0V0z\" fill=\"none\"/>\n",
              "    <path d=\"M18.56 5.44l.94 2.06.94-2.06 2.06-.94-2.06-.94-.94-2.06-.94 2.06-2.06.94zm-11 1L8.5 8.5l.94-2.06 2.06-.94-2.06-.94L8.5 2.5l-.94 2.06-2.06.94zm10 10l.94 2.06.94-2.06 2.06-.94-2.06-.94-.94-2.06-.94 2.06-2.06.94z\"/><path d=\"M17.41 7.96l-1.37-1.37c-.4-.4-.92-.59-1.43-.59-.52 0-1.04.2-1.43.59L10.3 9.45l-7.72 7.72c-.78.78-.78 2.05 0 2.83L4 21.41c.39.39.9.59 1.41.59.51 0 1.02-.2 1.41-.59l7.78-7.78 2.81-2.81c.8-.78.8-2.07 0-2.86zM5.41 20L4 18.59l7.72-7.72 1.47 1.35L5.41 20z\"/>\n",
              "  </svg>\n",
              "      </button>\n",
              "      \n",
              "  <style>\n",
              "    .colab-df-container {\n",
              "      display:flex;\n",
              "      flex-wrap:wrap;\n",
              "      gap: 12px;\n",
              "    }\n",
              "\n",
              "    .colab-df-convert {\n",
              "      background-color: #E8F0FE;\n",
              "      border: none;\n",
              "      border-radius: 50%;\n",
              "      cursor: pointer;\n",
              "      display: none;\n",
              "      fill: #1967D2;\n",
              "      height: 32px;\n",
              "      padding: 0 0 0 0;\n",
              "      width: 32px;\n",
              "    }\n",
              "\n",
              "    .colab-df-convert:hover {\n",
              "      background-color: #E2EBFA;\n",
              "      box-shadow: 0px 1px 2px rgba(60, 64, 67, 0.3), 0px 1px 3px 1px rgba(60, 64, 67, 0.15);\n",
              "      fill: #174EA6;\n",
              "    }\n",
              "\n",
              "    [theme=dark] .colab-df-convert {\n",
              "      background-color: #3B4455;\n",
              "      fill: #D2E3FC;\n",
              "    }\n",
              "\n",
              "    [theme=dark] .colab-df-convert:hover {\n",
              "      background-color: #434B5C;\n",
              "      box-shadow: 0px 1px 3px 1px rgba(0, 0, 0, 0.15);\n",
              "      filter: drop-shadow(0px 1px 2px rgba(0, 0, 0, 0.3));\n",
              "      fill: #FFFFFF;\n",
              "    }\n",
              "  </style>\n",
              "\n",
              "      <script>\n",
              "        const buttonEl =\n",
              "          document.querySelector('#df-e0a9390f-2597-4337-9d22-2af270522e08 button.colab-df-convert');\n",
              "        buttonEl.style.display =\n",
              "          google.colab.kernel.accessAllowed ? 'block' : 'none';\n",
              "\n",
              "        async function convertToInteractive(key) {\n",
              "          const element = document.querySelector('#df-e0a9390f-2597-4337-9d22-2af270522e08');\n",
              "          const dataTable =\n",
              "            await google.colab.kernel.invokeFunction('convertToInteractive',\n",
              "                                                     [key], {});\n",
              "          if (!dataTable) return;\n",
              "\n",
              "          const docLinkHtml = 'Like what you see? Visit the ' +\n",
              "            '<a target=\"_blank\" href=https://colab.research.google.com/notebooks/data_table.ipynb>data table notebook</a>'\n",
              "            + ' to learn more about interactive tables.';\n",
              "          element.innerHTML = '';\n",
              "          dataTable['output_type'] = 'display_data';\n",
              "          await google.colab.output.renderOutput(dataTable, element);\n",
              "          const docLink = document.createElement('div');\n",
              "          docLink.innerHTML = docLinkHtml;\n",
              "          element.appendChild(docLink);\n",
              "        }\n",
              "      </script>\n",
              "    </div>\n",
              "  </div>\n",
              "  "
            ],
            "text/plain": [
              "    Arvore  Random Forest     KNN  R.Logistica     SVM  Rede Neural\n",
              "0   0.9865         0.9850  0.9815       0.9475  0.9845       0.9965\n",
              "1   0.9850         0.9815  0.9800       0.9465  0.9840       0.9975\n",
              "2   0.9905         0.9830  0.9795       0.9470  0.9865       0.9970\n",
              "3   0.9880         0.9805  0.9780       0.9460  0.9850       0.9970\n",
              "4   0.9880         0.9810  0.9820       0.9465  0.9850       0.9970\n",
              "5   0.9890         0.9840  0.9780       0.9465  0.9845       0.9975\n",
              "6   0.9885         0.9845  0.9805       0.9470  0.9860       0.9975\n",
              "7   0.9875         0.9850  0.9800       0.9480  0.9850       0.9970\n",
              "8   0.9855         0.9835  0.9795       0.9465  0.9840       0.9955\n",
              "9   0.9870         0.9830  0.9820       0.9465  0.9845       0.9975\n",
              "10  0.9860         0.9865  0.9795       0.9475  0.9840       0.9965\n",
              "11  0.9895         0.9850  0.9825       0.9480  0.9845       0.9970\n",
              "12  0.9890         0.9840  0.9825       0.9475  0.9855       0.9965\n",
              "13  0.9865         0.9800  0.9780       0.9475  0.9855       0.9965\n",
              "14  0.9840         0.9860  0.9810       0.9485  0.9830       0.9965\n",
              "15  0.9860         0.9810  0.9790       0.9475  0.9865       0.9980\n",
              "16  0.9855         0.9795  0.9810       0.9460  0.9860       0.9965\n",
              "17  0.9905         0.9855  0.9800       0.9470  0.9865       0.9970\n",
              "18  0.9875         0.9855  0.9805       0.9465  0.9850       0.9975\n",
              "19  0.9870         0.9840  0.9795       0.9465  0.9845       0.9970\n",
              "20  0.9850         0.9850  0.9820       0.9465  0.9840       0.9975\n",
              "21  0.9865         0.9795  0.9825       0.9470  0.9850       0.9975\n",
              "22  0.9885         0.9845  0.9780       0.9455  0.9865       0.9980\n",
              "23  0.9870         0.9810  0.9810       0.9465  0.9875       0.9975\n",
              "24  0.9870         0.9870  0.9795       0.9470  0.9870       0.9975\n",
              "25  0.9885         0.9820  0.9790       0.9470  0.9820       0.9970\n",
              "26  0.9880         0.9850  0.9770       0.9475  0.9840       0.9975\n",
              "27  0.9855         0.9815  0.9785       0.9465  0.9865       0.9960\n",
              "28  0.9860         0.9825  0.9790       0.9480  0.9835       0.9975\n",
              "29  0.9880         0.9855  0.9805       0.9465  0.9865       0.9970"
            ]
          },
          "execution_count": 34,
          "metadata": {},
          "output_type": "execute_result"
        }
      ],
      "source": [
        "resultados = pd.DataFrame({'Arvore': resultados_arvore, 'Random Forest': resultados_random_forest, 'KNN': resultados_knn, 'R.Logistica': resultados_logistica,\n",
        "                           'SVM': resultados_svm, 'Rede Neural': resultados_rede_neural})\n",
        "resultados"
      ]
    },
    {
      "cell_type": "code",
      "execution_count": null,
      "metadata": {
        "colab": {
          "base_uri": "https://localhost:8080/",
          "height": 300
        },
        "id": "iQXFjfR_OBq5",
        "outputId": "c06dd8e9-5114-47e4-80dd-a717f598e4e8"
      },
      "outputs": [
        {
          "data": {
            "text/html": [
              "\n",
              "  <div id=\"df-3ccf200a-0dc6-4270-97d0-1bcbeae3f768\">\n",
              "    <div class=\"colab-df-container\">\n",
              "      <div>\n",
              "<style scoped>\n",
              "    .dataframe tbody tr th:only-of-type {\n",
              "        vertical-align: middle;\n",
              "    }\n",
              "\n",
              "    .dataframe tbody tr th {\n",
              "        vertical-align: top;\n",
              "    }\n",
              "\n",
              "    .dataframe thead th {\n",
              "        text-align: right;\n",
              "    }\n",
              "</style>\n",
              "<table border=\"1\" class=\"dataframe\">\n",
              "  <thead>\n",
              "    <tr style=\"text-align: right;\">\n",
              "      <th></th>\n",
              "      <th>Arvore</th>\n",
              "      <th>Random Forest</th>\n",
              "      <th>KNN</th>\n",
              "      <th>R.Logistica</th>\n",
              "      <th>SVM</th>\n",
              "      <th>Rede Neural</th>\n",
              "    </tr>\n",
              "  </thead>\n",
              "  <tbody>\n",
              "    <tr>\n",
              "      <th>count</th>\n",
              "      <td>30.000000</td>\n",
              "      <td>30.000000</td>\n",
              "      <td>30.000000</td>\n",
              "      <td>30.000000</td>\n",
              "      <td>30.000000</td>\n",
              "      <td>30.000000</td>\n",
              "    </tr>\n",
              "    <tr>\n",
              "      <th>mean</th>\n",
              "      <td>0.987233</td>\n",
              "      <td>0.983383</td>\n",
              "      <td>0.980050</td>\n",
              "      <td>0.946950</td>\n",
              "      <td>0.985083</td>\n",
              "      <td>0.997067</td>\n",
              "    </tr>\n",
              "    <tr>\n",
              "      <th>std</th>\n",
              "      <td>0.001617</td>\n",
              "      <td>0.002172</td>\n",
              "      <td>0.001533</td>\n",
              "      <td>0.000687</td>\n",
              "      <td>0.001280</td>\n",
              "      <td>0.000568</td>\n",
              "    </tr>\n",
              "    <tr>\n",
              "      <th>min</th>\n",
              "      <td>0.984000</td>\n",
              "      <td>0.979500</td>\n",
              "      <td>0.977000</td>\n",
              "      <td>0.945500</td>\n",
              "      <td>0.982000</td>\n",
              "      <td>0.995500</td>\n",
              "    </tr>\n",
              "    <tr>\n",
              "      <th>25%</th>\n",
              "      <td>0.986000</td>\n",
              "      <td>0.981500</td>\n",
              "      <td>0.979000</td>\n",
              "      <td>0.946500</td>\n",
              "      <td>0.984125</td>\n",
              "      <td>0.996625</td>\n",
              "    </tr>\n",
              "    <tr>\n",
              "      <th>50%</th>\n",
              "      <td>0.987000</td>\n",
              "      <td>0.984000</td>\n",
              "      <td>0.980000</td>\n",
              "      <td>0.947000</td>\n",
              "      <td>0.985000</td>\n",
              "      <td>0.997000</td>\n",
              "    </tr>\n",
              "    <tr>\n",
              "      <th>75%</th>\n",
              "      <td>0.988375</td>\n",
              "      <td>0.985000</td>\n",
              "      <td>0.981000</td>\n",
              "      <td>0.947500</td>\n",
              "      <td>0.986375</td>\n",
              "      <td>0.997500</td>\n",
              "    </tr>\n",
              "    <tr>\n",
              "      <th>max</th>\n",
              "      <td>0.990500</td>\n",
              "      <td>0.987000</td>\n",
              "      <td>0.982500</td>\n",
              "      <td>0.948500</td>\n",
              "      <td>0.987500</td>\n",
              "      <td>0.998000</td>\n",
              "    </tr>\n",
              "  </tbody>\n",
              "</table>\n",
              "</div>\n",
              "      <button class=\"colab-df-convert\" onclick=\"convertToInteractive('df-3ccf200a-0dc6-4270-97d0-1bcbeae3f768')\"\n",
              "              title=\"Convert this dataframe to an interactive table.\"\n",
              "              style=\"display:none;\">\n",
              "        \n",
              "  <svg xmlns=\"http://www.w3.org/2000/svg\" height=\"24px\"viewBox=\"0 0 24 24\"\n",
              "       width=\"24px\">\n",
              "    <path d=\"M0 0h24v24H0V0z\" fill=\"none\"/>\n",
              "    <path d=\"M18.56 5.44l.94 2.06.94-2.06 2.06-.94-2.06-.94-.94-2.06-.94 2.06-2.06.94zm-11 1L8.5 8.5l.94-2.06 2.06-.94-2.06-.94L8.5 2.5l-.94 2.06-2.06.94zm10 10l.94 2.06.94-2.06 2.06-.94-2.06-.94-.94-2.06-.94 2.06-2.06.94z\"/><path d=\"M17.41 7.96l-1.37-1.37c-.4-.4-.92-.59-1.43-.59-.52 0-1.04.2-1.43.59L10.3 9.45l-7.72 7.72c-.78.78-.78 2.05 0 2.83L4 21.41c.39.39.9.59 1.41.59.51 0 1.02-.2 1.41-.59l7.78-7.78 2.81-2.81c.8-.78.8-2.07 0-2.86zM5.41 20L4 18.59l7.72-7.72 1.47 1.35L5.41 20z\"/>\n",
              "  </svg>\n",
              "      </button>\n",
              "      \n",
              "  <style>\n",
              "    .colab-df-container {\n",
              "      display:flex;\n",
              "      flex-wrap:wrap;\n",
              "      gap: 12px;\n",
              "    }\n",
              "\n",
              "    .colab-df-convert {\n",
              "      background-color: #E8F0FE;\n",
              "      border: none;\n",
              "      border-radius: 50%;\n",
              "      cursor: pointer;\n",
              "      display: none;\n",
              "      fill: #1967D2;\n",
              "      height: 32px;\n",
              "      padding: 0 0 0 0;\n",
              "      width: 32px;\n",
              "    }\n",
              "\n",
              "    .colab-df-convert:hover {\n",
              "      background-color: #E2EBFA;\n",
              "      box-shadow: 0px 1px 2px rgba(60, 64, 67, 0.3), 0px 1px 3px 1px rgba(60, 64, 67, 0.15);\n",
              "      fill: #174EA6;\n",
              "    }\n",
              "\n",
              "    [theme=dark] .colab-df-convert {\n",
              "      background-color: #3B4455;\n",
              "      fill: #D2E3FC;\n",
              "    }\n",
              "\n",
              "    [theme=dark] .colab-df-convert:hover {\n",
              "      background-color: #434B5C;\n",
              "      box-shadow: 0px 1px 3px 1px rgba(0, 0, 0, 0.15);\n",
              "      filter: drop-shadow(0px 1px 2px rgba(0, 0, 0, 0.3));\n",
              "      fill: #FFFFFF;\n",
              "    }\n",
              "  </style>\n",
              "\n",
              "      <script>\n",
              "        const buttonEl =\n",
              "          document.querySelector('#df-3ccf200a-0dc6-4270-97d0-1bcbeae3f768 button.colab-df-convert');\n",
              "        buttonEl.style.display =\n",
              "          google.colab.kernel.accessAllowed ? 'block' : 'none';\n",
              "\n",
              "        async function convertToInteractive(key) {\n",
              "          const element = document.querySelector('#df-3ccf200a-0dc6-4270-97d0-1bcbeae3f768');\n",
              "          const dataTable =\n",
              "            await google.colab.kernel.invokeFunction('convertToInteractive',\n",
              "                                                     [key], {});\n",
              "          if (!dataTable) return;\n",
              "\n",
              "          const docLinkHtml = 'Like what you see? Visit the ' +\n",
              "            '<a target=\"_blank\" href=https://colab.research.google.com/notebooks/data_table.ipynb>data table notebook</a>'\n",
              "            + ' to learn more about interactive tables.';\n",
              "          element.innerHTML = '';\n",
              "          dataTable['output_type'] = 'display_data';\n",
              "          await google.colab.output.renderOutput(dataTable, element);\n",
              "          const docLink = document.createElement('div');\n",
              "          docLink.innerHTML = docLinkHtml;\n",
              "          element.appendChild(docLink);\n",
              "        }\n",
              "      </script>\n",
              "    </div>\n",
              "  </div>\n",
              "  "
            ],
            "text/plain": [
              "          Arvore  Random Forest        KNN  R.Logistica        SVM  Rede Neural\n",
              "count  30.000000      30.000000  30.000000    30.000000  30.000000    30.000000\n",
              "mean    0.987233       0.983383   0.980050     0.946950   0.985083     0.997067\n",
              "std     0.001617       0.002172   0.001533     0.000687   0.001280     0.000568\n",
              "min     0.984000       0.979500   0.977000     0.945500   0.982000     0.995500\n",
              "25%     0.986000       0.981500   0.979000     0.946500   0.984125     0.996625\n",
              "50%     0.987000       0.984000   0.980000     0.947000   0.985000     0.997000\n",
              "75%     0.988375       0.985000   0.981000     0.947500   0.986375     0.997500\n",
              "max     0.990500       0.987000   0.982500     0.948500   0.987500     0.998000"
            ]
          },
          "execution_count": 35,
          "metadata": {},
          "output_type": "execute_result"
        }
      ],
      "source": [
        "resultados.describe()"
      ]
    },
    {
      "cell_type": "code",
      "execution_count": null,
      "metadata": {
        "colab": {
          "base_uri": "https://localhost:8080/"
        },
        "id": "jXVlrwDBPRRU",
        "outputId": "f956cdfc-9291-42e9-c83c-92ebb3c0463d"
      },
      "outputs": [
        {
          "data": {
            "text/plain": [
              "Arvore           2.616092e-06\n",
              "Random Forest    4.718678e-06\n",
              "KNN              2.350862e-06\n",
              "R.Logistica      4.715517e-07\n",
              "SVM              1.639368e-06\n",
              "Rede Neural      3.229885e-07\n",
              "dtype: float64"
            ]
          },
          "execution_count": 36,
          "metadata": {},
          "output_type": "execute_result"
        }
      ],
      "source": [
        "resultados.var()"
      ]
    },
    {
      "cell_type": "code",
      "execution_count": null,
      "metadata": {
        "colab": {
          "base_uri": "https://localhost:8080/"
        },
        "id": "yx6SbZG0PZhL",
        "outputId": "347b977d-0e5a-4209-b57a-3b26a2c45110"
      },
      "outputs": [
        {
          "data": {
            "text/plain": [
              "Arvore           0.163835\n",
              "Random Forest    0.220896\n",
              "KNN              0.156446\n",
              "R.Logistica      0.072517\n",
              "SVM              0.129977\n",
              "Rede Neural      0.056999\n",
              "dtype: float64"
            ]
          },
          "execution_count": 37,
          "metadata": {},
          "output_type": "execute_result"
        }
      ],
      "source": [
        "(resultados.std() / resultados.mean()) * 100"
      ]
    }
  ],
  "metadata": {
    "colab": {
      "authorship_tag": "ABX9TyOzv62lkc7RJhFKHzRaqMSE",
      "collapsed_sections": [
        "zHE82fut2dm_",
        "9JCVZh89JpQs",
        "fTOO4Oh4yTJP",
        "9M7LguzOMoS4",
        "pwgmWiM3DgRQ"
      ],
      "include_colab_link": true,
      "name": "base_censo.ipynb",
      "provenance": []
    },
    "kernelspec": {
      "display_name": "Python 3",
      "name": "python3"
    },
    "language_info": {
      "name": "python"
    }
  },
  "nbformat": 4,
  "nbformat_minor": 0
}
